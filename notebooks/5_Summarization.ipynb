{
 "cells": [
  {
   "cell_type": "code",
   "execution_count": 1,
   "metadata": {
    "colab": {
     "base_uri": "https://localhost:8080/"
    },
    "id": "u5v-iSBXUUxt",
    "outputId": "4d18a1c5-c47f-421f-b388-73a25f9f235f"
   },
   "outputs": [
    {
     "name": "stdout",
     "output_type": "stream",
     "text": [
      "  Preparing metadata (setup.py) ... \u001b[?25l\u001b[?25hdone\n",
      "\u001b[2K     \u001b[90m━━━━━━━━━━━━━━━━━━━━━━━━━━━━━━━━━━━━━━━━\u001b[0m \u001b[32m67.3/67.3 kB\u001b[0m \u001b[31m3.3 MB/s\u001b[0m eta \u001b[36m0:00:00\u001b[0m\n",
      "\u001b[?25h  Installing build dependencies ... \u001b[?25l\u001b[?25hdone\n",
      "  Getting requirements to build wheel ... \u001b[?25l\u001b[?25hdone\n",
      "  Preparing metadata (pyproject.toml) ... \u001b[?25l\u001b[?25hdone\n",
      "\u001b[33m  WARNING: Retrying (Retry(total=4, connect=None, read=None, redirect=None, status=None)) after connection broken by 'ProtocolError('Connection aborted.', RemoteDisconnected('Remote end closed connection without response'))': /packages/2c/ab/fc8290c6a4c722e5514d80f62b2dc4c4df1a68a41d1364e625c35990fcf3/overrides-7.7.0-py3-none-any.whl.metadata\u001b[0m\u001b[33m\n",
      "\u001b[2K   \u001b[90m━━━━━━━━━━━━━━━━━━━━━━━━━━━━━━━━━━━━━━━━\u001b[0m \u001b[32m363.4/363.4 MB\u001b[0m \u001b[31m3.7 MB/s\u001b[0m eta \u001b[36m0:00:00\u001b[0m\n",
      "\u001b[2K   \u001b[90m━━━━━━━━━━━━━━━━━━━━━━━━━━━━━━━━━━━━━━━━\u001b[0m \u001b[32m13.8/13.8 MB\u001b[0m \u001b[31m44.0 MB/s\u001b[0m eta \u001b[36m0:00:00\u001b[0m\n",
      "\u001b[2K   \u001b[90m━━━━━━━━━━━━━━━━━━━━━━━━━━━━━━━━━━━━━━━━\u001b[0m \u001b[32m24.6/24.6 MB\u001b[0m \u001b[31m21.6 MB/s\u001b[0m eta \u001b[36m0:00:00\u001b[0m\n",
      "\u001b[2K   \u001b[90m━━━━━━━━━━━━━━━━━━━━━━━━━━━━━━━━━━━━━━━━\u001b[0m \u001b[32m883.7/883.7 kB\u001b[0m \u001b[31m28.3 MB/s\u001b[0m eta \u001b[36m0:00:00\u001b[0m\n",
      "\u001b[2K   \u001b[90m━━━━━━━━━━━━━━━━━━━━━━━━━━━━━━━━━━━━━━━━\u001b[0m \u001b[32m664.8/664.8 MB\u001b[0m \u001b[31m2.3 MB/s\u001b[0m eta \u001b[36m0:00:00\u001b[0m\n",
      "\u001b[2K   \u001b[90m━━━━━━━━━━━━━━━━━━━━━━━━━━━━━━━━━━━━━━━━\u001b[0m \u001b[32m211.5/211.5 MB\u001b[0m \u001b[31m5.1 MB/s\u001b[0m eta \u001b[36m0:00:00\u001b[0m\n",
      "\u001b[2K   \u001b[90m━━━━━━━━━━━━━━━━━━━━━━━━━━━━━━━━━━━━━━━━\u001b[0m \u001b[32m56.3/56.3 MB\u001b[0m \u001b[31m10.5 MB/s\u001b[0m eta \u001b[36m0:00:00\u001b[0m\n",
      "\u001b[2K   \u001b[90m━━━━━━━━━━━━━━━━━━━━━━━━━━━━━━━━━━━━━━━━\u001b[0m \u001b[32m127.9/127.9 MB\u001b[0m \u001b[31m8.4 MB/s\u001b[0m eta \u001b[36m0:00:00\u001b[0m\n",
      "\u001b[2K   \u001b[90m━━━━━━━━━━━━━━━━━━━━━━━━━━━━━━━━━━━━━━━━\u001b[0m \u001b[32m207.5/207.5 MB\u001b[0m \u001b[31m4.9 MB/s\u001b[0m eta \u001b[36m0:00:00\u001b[0m\n",
      "\u001b[2K   \u001b[90m━━━━━━━━━━━━━━━━━━━━━━━━━━━━━━━━━━━━━━━━\u001b[0m \u001b[32m21.1/21.1 MB\u001b[0m \u001b[31m43.5 MB/s\u001b[0m eta \u001b[36m0:00:00\u001b[0m\n",
      "\u001b[2K   \u001b[90m━━━━━━━━━━━━━━━━━━━━━━━━━━━━━━━━━━━━━━━━\u001b[0m \u001b[32m345.7/345.7 kB\u001b[0m \u001b[31m25.6 MB/s\u001b[0m eta \u001b[36m0:00:00\u001b[0m\n",
      "\u001b[2K   \u001b[90m━━━━━━━━━━━━━━━━━━━━━━━━━━━━━━━━━━━━━━━━\u001b[0m \u001b[32m18.3/18.3 MB\u001b[0m \u001b[31m64.5 MB/s\u001b[0m eta \u001b[36m0:00:00\u001b[0m\n",
      "\u001b[2K   \u001b[90m━━━━━━━━━━━━━━━━━━━━━━━━━━━━━━━━━━━━━━━━\u001b[0m \u001b[32m2.4/2.4 MB\u001b[0m \u001b[31m51.5 MB/s\u001b[0m eta \u001b[36m0:00:00\u001b[0m\n",
      "\u001b[2K   \u001b[90m━━━━━━━━━━━━━━━━━━━━━━━━━━━━━━━━━━━━━━━━\u001b[0m \u001b[32m94.9/94.9 kB\u001b[0m \u001b[31m8.4 MB/s\u001b[0m eta \u001b[36m0:00:00\u001b[0m\n",
      "\u001b[2K   \u001b[90m━━━━━━━━━━━━━━━━━━━━━━━━━━━━━━━━━━━━━━━━\u001b[0m \u001b[32m76.1/76.1 MB\u001b[0m \u001b[31m9.7 MB/s\u001b[0m eta \u001b[36m0:00:00\u001b[0m\n",
      "\u001b[2K   \u001b[90m━━━━━━━━━━━━━━━━━━━━━━━━━━━━━━━━━━━━━━━━\u001b[0m \u001b[32m284.2/284.2 kB\u001b[0m \u001b[31m21.2 MB/s\u001b[0m eta \u001b[36m0:00:00\u001b[0m\n",
      "\u001b[2K   \u001b[90m━━━━━━━━━━━━━━━━━━━━━━━━━━━━━━━━━━━━━━━━\u001b[0m \u001b[32m2.0/2.0 MB\u001b[0m \u001b[31m54.2 MB/s\u001b[0m eta \u001b[36m0:00:00\u001b[0m\n",
      "\u001b[2K   \u001b[90m━━━━━━━━━━━━━━━━━━━━━━━━━━━━━━━━━━━━━━━━\u001b[0m \u001b[32m101.6/101.6 kB\u001b[0m \u001b[31m8.8 MB/s\u001b[0m eta \u001b[36m0:00:00\u001b[0m\n",
      "\u001b[2K   \u001b[90m━━━━━━━━━━━━━━━━━━━━━━━━━━━━━━━━━━━━━━━━\u001b[0m \u001b[32m16.0/16.0 MB\u001b[0m \u001b[31m24.8 MB/s\u001b[0m eta \u001b[36m0:00:00\u001b[0m\n",
      "\u001b[2K   \u001b[90m━━━━━━━━━━━━━━━━━━━━━━━━━━━━━━━━━━━━━━━━\u001b[0m \u001b[32m55.9/55.9 kB\u001b[0m \u001b[31m3.2 MB/s\u001b[0m eta \u001b[36m0:00:00\u001b[0m\n",
      "\u001b[2K   \u001b[90m━━━━━━━━━━━━━━━━━━━━━━━━━━━━━━━━━━━━━━━━\u001b[0m \u001b[32m89.1/89.1 kB\u001b[0m \u001b[31m6.7 MB/s\u001b[0m eta \u001b[36m0:00:00\u001b[0m\n",
      "\u001b[2K   \u001b[90m━━━━━━━━━━━━━━━━━━━━━━━━━━━━━━━━━━━━━━━━\u001b[0m \u001b[32m62.5/62.5 kB\u001b[0m \u001b[31m4.9 MB/s\u001b[0m eta \u001b[36m0:00:00\u001b[0m\n",
      "\u001b[2K   \u001b[90m━━━━━━━━━━━━━━━━━━━━━━━━━━━━━━━━━━━━━━━━\u001b[0m \u001b[32m459.8/459.8 kB\u001b[0m \u001b[31m32.1 MB/s\u001b[0m eta \u001b[36m0:00:00\u001b[0m\n",
      "\u001b[2K   \u001b[90m━━━━━━━━━━━━━━━━━━━━━━━━━━━━━━━━━━━━━━━━\u001b[0m \u001b[32m71.5/71.5 kB\u001b[0m \u001b[31m6.1 MB/s\u001b[0m eta \u001b[36m0:00:00\u001b[0m\n",
      "\u001b[2K   \u001b[90m━━━━━━━━━━━━━━━━━━━━━━━━━━━━━━━━━━━━━━━━\u001b[0m \u001b[32m4.0/4.0 MB\u001b[0m \u001b[31m94.2 MB/s\u001b[0m eta \u001b[36m0:00:00\u001b[0m\n",
      "\u001b[2K   \u001b[90m━━━━━━━━━━━━━━━━━━━━━━━━━━━━━━━━━━━━━━━━\u001b[0m \u001b[32m454.8/454.8 kB\u001b[0m \u001b[31m37.9 MB/s\u001b[0m eta \u001b[36m0:00:00\u001b[0m\n",
      "\u001b[2K   \u001b[90m━━━━━━━━━━━━━━━━━━━━━━━━━━━━━━━━━━━━━━━━\u001b[0m \u001b[32m46.0/46.0 kB\u001b[0m \u001b[31m3.9 MB/s\u001b[0m eta \u001b[36m0:00:00\u001b[0m\n",
      "\u001b[2K   \u001b[90m━━━━━━━━━━━━━━━━━━━━━━━━━━━━━━━━━━━━━━━━\u001b[0m \u001b[32m86.8/86.8 kB\u001b[0m \u001b[31m9.1 MB/s\u001b[0m eta \u001b[36m0:00:00\u001b[0m\n",
      "\u001b[?25h  Building wheel for rouge-score (setup.py) ... \u001b[?25l\u001b[?25hdone\n",
      "  Building wheel for pypika (pyproject.toml) ... \u001b[?25l\u001b[?25hdone\n"
     ]
    }
   ],
   "source": [
    "!pip install -qU transformers torch sentence-transformers chromadb bitsandbytes tqdm rouge rouge-score"
   ]
  },
  {
   "cell_type": "code",
   "execution_count": 2,
   "metadata": {
    "id": "nS9Y5U2YRlVZ"
   },
   "outputs": [],
   "source": [
    "import os\n",
    "import json\n",
    "import torch\n",
    "import numpy as np\n",
    "from typing import List, Dict, Any, Optional, Union\n",
    "from tqdm import tqdm\n",
    "from transformers import AutoTokenizer, AutoModelForCausalLM, pipeline\n",
    "from rouge import Rouge\n",
    "import pandas as pd\n",
    "import matplotlib.pyplot as plt\n",
    "from sentence_transformers import SentenceTransformer\n",
    "import nltk\n",
    "from nltk.tokenize import sent_tokenize\n",
    "from nltk.corpus import stopwords\n",
    "from nltk.cluster.util import cosine_distance\n",
    "import networkx as nx\n",
    "from collections import Counter"
   ]
  },
  {
   "cell_type": "code",
   "execution_count": 3,
   "metadata": {
    "colab": {
     "base_uri": "https://localhost:8080/"
    },
    "id": "OBrAKy98UTE9",
    "outputId": "aa7e7410-3b20-49b1-f4c4-d7bf63d49aa6"
   },
   "outputs": [
    {
     "name": "stderr",
     "output_type": "stream",
     "text": [
      "[nltk_data] Downloading package punkt to /root/nltk_data...\n",
      "[nltk_data]   Unzipping tokenizers/punkt.zip.\n",
      "[nltk_data] Downloading package stopwords to /root/nltk_data...\n",
      "[nltk_data]   Unzipping corpora/stopwords.zip.\n",
      "[nltk_data] Downloading package punkt_tab to /root/nltk_data...\n",
      "[nltk_data]   Unzipping tokenizers/punkt_tab.zip.\n"
     ]
    }
   ],
   "source": [
    "# Download NLTK resources if not already available\n",
    "try:\n",
    "    nltk.data.find('tokenizers/punkt')\n",
    "except LookupError:\n",
    "    nltk.download('punkt')\n",
    "\n",
    "try:\n",
    "    nltk.data.find('corpora/stopwords')\n",
    "except LookupError:\n",
    "    nltk.download('stopwords')\n",
    "\n",
    "try:\n",
    "    nltk.data.find('tokenizers/punkt_tab')\n",
    "except LookupError:\n",
    "    nltk.download('punkt_tab')"
   ]
  },
  {
   "cell_type": "markdown",
   "metadata": {
    "id": "piUSprp0ubqP"
   },
   "source": [
    "**Getting chunked data that we created earlier**"
   ]
  },
  {
   "cell_type": "code",
   "execution_count": 4,
   "metadata": {
    "colab": {
     "base_uri": "https://localhost:8080/"
    },
    "id": "rhWOtI8-cTo3",
    "outputId": "6b1e54e1-3dbd-4ba3-aa8a-4b1c9802934f"
   },
   "outputs": [
    {
     "name": "stdout",
     "output_type": "stream",
     "text": [
      "Archive:  /content/chunked_data.zip\n",
      "   creating: content/chunked_data/\n",
      "  inflating: content/chunked_data/The-Alchemist_chunks.json  \n",
      "  inflating: content/chunked_data/Ocean_ecogeochemistry_A_review_chunks.json  \n",
      "  inflating: content/chunked_data/Stats_chunks.json  \n",
      "  inflating: content/chunked_data/new-approaches-and-procedures-for-cancer-treatment_chunks.json  \n",
      "  inflating: content/chunked_data/all_chunks.json  \n",
      "  inflating: content/chunked_data/The_Plan_of_the_Giza_Pyramids_chunks.json  \n",
      "  inflating: content/chunked_data/M.Sc. Applied Psychology_chunks.json  \n",
      "  inflating: content/chunked_data/Dataset summaries and citations_chunks.json  \n"
     ]
    }
   ],
   "source": [
    "!unzip /content/chunked_data.zip"
   ]
  },
  {
   "cell_type": "code",
   "execution_count": 5,
   "metadata": {
    "id": "jRWJp7vvcVeR"
   },
   "outputs": [],
   "source": [
    "!mkdir chunked_data\n",
    "!mv /content/content/chunked_data/* /content/chunked_data\n",
    "!rm -rf /content/content/"
   ]
  },
  {
   "cell_type": "markdown",
   "metadata": {
    "id": "VqiEfrI1r46e"
   },
   "source": [
    "### **Decorator to measure tokens**"
   ]
  },
  {
   "cell_type": "code",
   "execution_count": 6,
   "metadata": {
    "id": "QqdxsYaTnJ8p"
   },
   "outputs": [],
   "source": [
    "import time\n",
    "import functools\n",
    "from typing import Callable, Any, Optional\n",
    "\n",
    "def measure_token_processing(process_name: Optional[str] = None):\n",
    "    \"\"\"Decorator to measure token processing speed across different tasks.\"\"\"\n",
    "\n",
    "    def decorator(func: Callable) -> Callable:\n",
    "        @functools.wraps(func)\n",
    "        def wrapper(*args, **kwargs):\n",
    "            # Determine the process name\n",
    "            task_name = process_name or func.__name__\n",
    "\n",
    "            # Get the instance (self) from args\n",
    "            instance = args[0] if args else None\n",
    "\n",
    "            # Find text to tokenize - could be in different places depending on function\n",
    "            text = None\n",
    "            # Check args - likely the second argument for most methods\n",
    "            if len(args) > 1 and isinstance(args[1], str):\n",
    "                text = args[1]\n",
    "            elif len(args) > 1 and isinstance(args[1], list) and all(isinstance(t, str) for t in args[1]):\n",
    "                text = ' '.join(args[1])  # Join list of strings\n",
    "\n",
    "            # Check kwargs for text\n",
    "            elif 'text' in kwargs and isinstance(kwargs['text'], str):\n",
    "                text = kwargs['text']\n",
    "            elif 'texts' in kwargs and isinstance(kwargs['texts'], list):\n",
    "                text = ' '.join(kwargs['texts'])\n",
    "            elif 'prompt' in kwargs and isinstance(kwargs['prompt'], str):\n",
    "                text = kwargs['prompt']\n",
    "\n",
    "            # Find appropriate tokenizer\n",
    "            tokenizer = None\n",
    "            if instance and hasattr(instance, 'tokenizer'):\n",
    "                tokenizer = instance.tokenizer\n",
    "            elif instance and hasattr(instance, 'embedding_model') and hasattr(instance.embedding_model, 'tokenizer'):\n",
    "                tokenizer = instance.embedding_model.tokenizer\n",
    "\n",
    "            # Count tokens if we have both text and tokenizer\n",
    "            input_tokens = 0\n",
    "            if text and tokenizer:\n",
    "                try:\n",
    "                    if hasattr(tokenizer, 'encode'):\n",
    "                        input_tokens = len(tokenizer.encode(text))\n",
    "                    elif hasattr(tokenizer, '__call__'):\n",
    "                        input_tokens = len(tokenizer(text)['input_ids'])\n",
    "                except:\n",
    "                    # Fallback to rough estimate (approx 4 chars per token)\n",
    "                    input_tokens = len(text) // 4\n",
    "            elif text:\n",
    "                # Very rough approximation if no tokenizer available\n",
    "                input_tokens = len(text.split())\n",
    "\n",
    "            # Start timing\n",
    "            start_time = time.perf_counter()\n",
    "\n",
    "            # Execute the function\n",
    "            result = func(*args, **kwargs)\n",
    "\n",
    "            # End timing\n",
    "            end_time = time.perf_counter()\n",
    "\n",
    "            # Calculate tokens per second\n",
    "            processing_time = end_time - start_time\n",
    "            tokens_per_second = input_tokens / processing_time if processing_time > 0 else 0\n",
    "\n",
    "            # Output measurements\n",
    "            print(f\"⏱️ {task_name}: {input_tokens} tokens processed in {processing_time:.2f}s ({tokens_per_second:.2f} tokens/sec)\\n\")\n",
    "\n",
    "            # If result is a string, we could measure output tokens too\n",
    "            if isinstance(result, str) and tokenizer:\n",
    "                try:\n",
    "                    output_tokens = len(tokenizer.encode(result))\n",
    "                    total_tokens = input_tokens + output_tokens\n",
    "                    throughput = total_tokens / processing_time if processing_time > 0 else 0\n",
    "                    print(f\"   Total (in+out): {total_tokens} tokens at {throughput:.2f} tokens/sec\\n\\n\")\n",
    "                except:\n",
    "                    pass\n",
    "\n",
    "            return result\n",
    "        return wrapper\n",
    "    return decorator"
   ]
  },
  {
   "cell_type": "markdown",
   "metadata": {
    "id": "1MDpxrLUtrNO"
   },
   "source": [
    "# Summarization System\n",
    "\n",
    "A sophisticated system for document summarization with advanced evaluation capabilities:\n",
    "\n",
    "- **Flexible Summarization Methods**: Supports abstractive, extractive, and bullet-point summarization\n",
    "- **Local LLM Integration**: Utilizes models like Meta-Llama for abstractive summaries with fallback to smaller models\n",
    "- **Embedding Model Support**: Employs SentenceTransformer for enhanced extractive summarization\n",
    "- **Model Caching**: Reuses loaded models to optimize performance and reduce initialization time\n",
    "- **Chunk-Based Processing**: Groups and processes document chunks by source for summaries\n",
    "- **ROUGE Evaluation**: Provides quantitative assessment of summary quality using ROUGE metrics\n",
    "- **Device Flexibility**: Automatically adapts to available hardware (CPU/GPU) for efficient computation\n",
    "- **Multi-Summary Generation**: Creates multiple candidate summaries for comparison and selection\n",
    "- **Confidence Scoring**: Associates confidence scores with generated summaries for quality assessment\n",
    "- **LLM-Based Evaluation**: Uses the same LLM to evaluate and select the best summary from multiple candidates\n",
    "- **Two-Step Summarization**: Implements a generate-then-evaluate workflow for optimal summary selection"
   ]
  },
  {
   "cell_type": "code",
   "execution_count": 7,
   "metadata": {
    "colab": {
     "base_uri": "https://localhost:8080/",
     "height": 17,
     "referenced_widgets": [
      "d2fce12c25e045fcbcb5aa7987c90e87",
      "3a896bb74c864057b4edb8ddba3304c3",
      "8cb3966db1fe4464836604747369a022",
      "616b507af948490f91a0b60e81c8488c",
      "f6b02048d3ff4a50bb541306a69eae33",
      "b4169e69661144a6b4ca29b23010bc0b",
      "7c3094629d3844edbe556561f6b3e20c",
      "59fb07b7ba62432e87d116c8c393a627",
      "d89b0e31b4374bb686f7d9d116f98e27",
      "8af105b519634ff7b0957edd016168d0",
      "651ae72fde194777a927411e9ebc4f1e",
      "077eadd52ae14336b1b7de36e1022e22",
      "fe842e881dfc4faa8d4051fa0e8a58d4",
      "832b2a0536c2418496d707b8eeed0d2f",
      "d5c50aed17d54bf4b71c1dc8e257a24d",
      "1c752747abaa4f04b8fcf50419eca763",
      "198d3ccdb31c4adf93308d99466cf873",
      "57b688d71b3a45a5bda47be3649d18f2",
      "2f703ecf83bb42b0870f00f2f3e6f1e9",
      "df9080202fac433da0a596c7ed86262c"
     ]
    },
    "id": "sjeNFtC04s0w",
    "outputId": "6e66b8bf-fe65-4a01-ae57-596ca44a282e"
   },
   "outputs": [
    {
     "data": {
      "application/vnd.jupyter.widget-view+json": {
       "model_id": "d2fce12c25e045fcbcb5aa7987c90e87",
       "version_major": 2,
       "version_minor": 0
      },
      "text/plain": [
       "VBox(children=(HTML(value='<center> <img\\nsrc=https://huggingface.co/front/assets/huggingface_logo-noborder.sv…"
      ]
     },
     "metadata": {},
     "output_type": "display_data"
    }
   ],
   "source": [
    "# Login to HF to access LLMs\n",
    "from huggingface_hub import notebook_login\n",
    "notebook_login()"
   ]
  },
  {
   "cell_type": "code",
   "execution_count": 7,
   "metadata": {
    "id": "JCdY9Eq2U9zY"
   },
   "outputs": [],
   "source": [
    "class SummarizationSystem:\n",
    "    \"\"\"System for summarizing publications and evaluating summaries using various techniques.\"\"\"\n",
    "\n",
    "    # Class-level cache for models\n",
    "    _loaded_model = None\n",
    "    _loaded_tokenizer = None\n",
    "    _loaded_model_name = None\n",
    "    _loaded_embedding_model = None\n",
    "    _loaded_embedding_model_name = None\n",
    "\n",
    "    def __init__(\n",
    "        self,\n",
    "        chunks_dir: str = \"chunked_data\",\n",
    "        summaries_dir: str = \"summaries\",\n",
    "        llm_model_name: str = \"meta-llama/Meta-Llama-3-8B-Instruct\",  # Default LLM model\n",
    "        embedding_model: str = \"nomic-ai/nomic-embed-text-v1.5\",       # Default embedding model\n",
    "        device: str = \"auto\"\n",
    "    ):\n",
    "        self.chunks_dir = chunks_dir\n",
    "        self.summaries_dir = summaries_dir\n",
    "        self.llm_model_name = llm_model_name\n",
    "        self.embedding_model_name = embedding_model\n",
    "\n",
    "        # Ensure directories exist\n",
    "        os.makedirs(summaries_dir, exist_ok=True)\n",
    "\n",
    "        # Initialize device\n",
    "        if device == \"auto\":\n",
    "            self.device = \"cuda\" if torch.cuda.is_available() else \"cpu\"\n",
    "        else:\n",
    "            self.device = device\n",
    "        print(f\"Using device: {self.device}\")\n",
    "\n",
    "        # Load models with caching to avoid repeated loading\n",
    "        self._load_models()\n",
    "\n",
    "        # Initialize ROUGE metric\n",
    "        self.rouge_evaluator = Rouge()\n",
    "\n",
    "        # Results storage\n",
    "        self.experiment_results = []\n",
    "\n",
    "    def _load_models(self):\n",
    "        \"\"\"Load LLM and embedding models with caching.\"\"\"\n",
    "\n",
    "        # Load LLM\n",
    "        if SummarizationSystem._loaded_model_name == self.llm_model_name:\n",
    "            print(\"LLM already loaded. Reusing from cache.\")\n",
    "            self.tokenizer = SummarizationSystem._loaded_tokenizer\n",
    "            self.model = SummarizationSystem._loaded_model\n",
    "        else:\n",
    "            try:\n",
    "                print(f\"-----Loading LLM: {self.llm_model_name}-----\\n\")\n",
    "                self.tokenizer = AutoTokenizer.from_pretrained(self.llm_model_name)\n",
    "                if self.device == \"cuda\":\n",
    "                    self.model = AutoModelForCausalLM.from_pretrained(\n",
    "                        self.llm_model_name,\n",
    "                        device_map=\"auto\",\n",
    "                        torch_dtype=torch.float16,\n",
    "                        load_in_8bit=True\n",
    "                    )\n",
    "                else:\n",
    "                    self.model = AutoModelForCausalLM.from_pretrained(\n",
    "                        self.llm_model_name,\n",
    "                        device_map={\"\": self.device}\n",
    "                    )\n",
    "                # Cache the loaded model\n",
    "                SummarizationSystem._loaded_tokenizer = self.tokenizer\n",
    "                SummarizationSystem._loaded_model = self.model\n",
    "                SummarizationSystem._loaded_model_name = self.llm_model_name\n",
    "            except Exception as e:\n",
    "                print(f\"Error loading primary LLM model: {str(e)}\")\n",
    "                print(\"Attempting to load a smaller fallback model...\")\n",
    "                try:\n",
    "                    # Fallback to a smaller model that's more likely to work locally\n",
    "                    fallback_model = \"TinyLlama/TinyLlama-1.1B-Chat-v1.0\"\n",
    "                    print(f\"Loading fallback model: {fallback_model}\")\n",
    "                    self.tokenizer = AutoTokenizer.from_pretrained(fallback_model)\n",
    "                    self.model = AutoModelForCausalLM.from_pretrained(\n",
    "                        fallback_model,\n",
    "                        device_map=\"auto\" if self.device == \"cuda\" else {\"\": self.device}\n",
    "                    )\n",
    "                    self.llm_model_name = fallback_model\n",
    "                    # Update cache\n",
    "                    SummarizationSystem._loaded_tokenizer = self.tokenizer\n",
    "                    SummarizationSystem._loaded_model = self.model\n",
    "                    SummarizationSystem._loaded_model_name = self.llm_model_name\n",
    "                except Exception as e2:\n",
    "                    print(f\"Error loading fallback model: {str(e2)}\")\n",
    "                    print(\"Proceeding with alternative summarization methods only.\")\n",
    "                    self.model = None\n",
    "                    self.tokenizer = None\n",
    "\n",
    "        # Create pipeline if model loaded successfully\n",
    "        if self.model is not None and self.tokenizer is not None:\n",
    "            self.generator = pipeline(\n",
    "                \"text-generation\",\n",
    "                model=self.model,\n",
    "                tokenizer=self.tokenizer,\n",
    "                device_map=\"auto\" if self.device == \"cuda\" else {\"\": self.device}\n",
    "            )\n",
    "        else:\n",
    "            self.generator = None\n",
    "\n",
    "        # Load embedding model if needed for extractive methods\n",
    "        if SummarizationSystem._loaded_embedding_model_name == self.embedding_model_name:\n",
    "            print(\"Embedding model already loaded. Reusing from cache.\")\n",
    "            self.embedding_model = SummarizationSystem._loaded_embedding_model\n",
    "        else:\n",
    "            try:\n",
    "                print(f\"-----Loading embedding model: {self.embedding_model_name}-----\\n\")\n",
    "                self.embedding_model = SentenceTransformer(self.embedding_model_name, device=\"cpu\", trust_remote_code=True)\n",
    "                SummarizationSystem._loaded_embedding_model = self.embedding_model\n",
    "                SummarizationSystem._loaded_embedding_model_name = self.embedding_model_name\n",
    "            except Exception as e:\n",
    "                print(f\"Error loading embedding model: {str(e)}\")\n",
    "                print(\"Using basic NLP methods for extractive summarization.\")\n",
    "                self.embedding_model = None\n",
    "\n",
    "    def load_chunks(self, filename: str = \"all_chunks.json\") -> List[Dict[str, Any]]:\n",
    "        \"\"\"Load document chunks from a JSON file.\"\"\"\n",
    "\n",
    "        filepath = os.path.join(self.chunks_dir, filename)\n",
    "        try:\n",
    "            with open(filepath, 'r', encoding='utf-8') as f:\n",
    "                chunks = json.load(f)\n",
    "            print(f\"Loaded {len(chunks)} chunks from {filepath}\\n\")\n",
    "            return chunks\n",
    "        except Exception as e:\n",
    "            print(f\"Error loading chunks from {filepath}: {str(e)}\")\n",
    "            return []\n",
    "\n",
    "    def group_chunks_by_source(self, chunks: List[Dict[str, Any]]) -> Dict[str, List[Dict[str, Any]]]:\n",
    "        \"\"\"Group chunks by their source document.\"\"\"\n",
    "\n",
    "        grouped = {}\n",
    "        for chunk in chunks:\n",
    "            source = chunk.get(\"source\", \"unknown\")\n",
    "            if source not in grouped:\n",
    "                grouped[source] = []\n",
    "            grouped[source].append(chunk)\n",
    "\n",
    "        # Sort chunks by chunk number within each source\n",
    "        for source in grouped:\n",
    "            grouped[source].sort(key=lambda x: x.get(\"chunk_number\", 0))\n",
    "\n",
    "        return grouped\n",
    "\n",
    "    @measure_token_processing(\"Summary Generation\")\n",
    "    def _generate_llm_summary(self, text: str, method: str = \"abstractive\", max_length: int = 500) -> str:\n",
    "        \"\"\"Generate a summary using the loaded LLM.\"\"\"\n",
    "\n",
    "        if self.generator is None:\n",
    "            return \"LLM not available for summarization.\"\n",
    "\n",
    "        # Different prompt templates based on summarization method\n",
    "        if method == \"abstractive\":\n",
    "            prompt = f\"\"\"<|system|>\n",
    "                        You are an expert summarizer. Create a comprehensive abstractive summary of the following text.\n",
    "                        Focus on the main ideas, key findings, and important details. Ensure the summary is coherent and flows well.\n",
    "                        </s>\n",
    "\n",
    "                        <|user|>\n",
    "                        TEXT TO SUMMARIZE:\n",
    "                        {text}\n",
    "\n",
    "                        Please create a detailed yet concise summary of the text above.\n",
    "                        </s>\n",
    "\n",
    "                        <|assistant|>\n",
    "                        \"\"\"\n",
    "        elif method == \"bullet_points\":\n",
    "            prompt = f\"\"\"<|system|>\n",
    "                        You are an expert summarizer. Create a summary of the following text in bullet point format.\n",
    "                        Focus on the main ideas, key findings, and important details. Each bullet point should capture one key concept.\n",
    "                        </s>\n",
    "\n",
    "                        <|user|>\n",
    "                        TEXT TO SUMMARIZE:\n",
    "                        {text}\n",
    "\n",
    "                        Please create a bullet point summary of the key concepts in the text.\n",
    "                        </s>\n",
    "\n",
    "                        <|assistant|>\n",
    "                        \"\"\"\n",
    "        else:  # Default to standard summarization\n",
    "            prompt = f\"\"\"<|system|>\n",
    "                        You are an expert summarizer. Summarize the following text effectively.\n",
    "                        </s>\n",
    "\n",
    "                        <|user|>\n",
    "                        TEXT TO SUMMARIZE:\n",
    "                        {text}\n",
    "\n",
    "                        Please summarize this text.\n",
    "                        </s>\n",
    "\n",
    "                        <|assistant|>\n",
    "                        \"\"\"\n",
    "\n",
    "        try:\n",
    "            # Calculate input token length to determine appropriate max_new_tokens\n",
    "            input_ids = self.tokenizer(prompt, return_tensors=\"pt\").input_ids\n",
    "            input_length = input_ids.size(1)\n",
    "\n",
    "            # Set a reasonable max_new_tokens based on available context window and desired summary length\n",
    "            context_window = 6000  # Typical for Llama models\n",
    "            max_new_tokens = min(max_length, context_window - input_length)\n",
    "\n",
    "            # Generate summary\n",
    "            outputs = self.generator(\n",
    "                prompt,\n",
    "                max_new_tokens=max_new_tokens,\n",
    "                temperature=0.3,  # Lower temperature for more focused summaries\n",
    "                top_p=0.9,\n",
    "                do_sample=True,\n",
    "                pad_token_id=self.tokenizer.eos_token_id,\n",
    "                num_return_sequences=1\n",
    "            )\n",
    "\n",
    "            # Extract the generated text\n",
    "            generated_text = outputs[0][\"generated_text\"]\n",
    "\n",
    "            # Remove the prompt from the response\n",
    "            summary = generated_text[len(prompt):].strip()\n",
    "\n",
    "            # Clean up potential model artifacts\n",
    "            summary = summary.split(\"</s>\")[0].split(\"<|user|>\")[0].split(\"<|system|>\")[0].strip()\n",
    "\n",
    "            return summary\n",
    "\n",
    "        except Exception as e:\n",
    "            print(f\"Error generating summary with LLM: {str(e)}\")\n",
    "            return \"Error generating summary.\"\n",
    "\n",
    "    def summarize_text(self, text: str, method: str = \"abstractive\", max_length: int = 500) -> str:\n",
    "        \"\"\"Generate a summary using the specified method.\"\"\"\n",
    "\n",
    "        if len(text.strip()) == 0:\n",
    "            return \"\"\n",
    "\n",
    "        # Apply the selected summarization method\n",
    "        if method == \"abstractive\" and self.generator is not None:\n",
    "            return self._generate_llm_summary(text, method=\"abstractive\", max_length=max_length)\n",
    "        elif method == \"bullet_points\" and self.generator is not None:\n",
    "            return self._generate_llm_summary(text, method=\"bullet_points\", max_length=max_length)\n",
    "        else:\n",
    "            # Default to abstractive if requested method isn't available\n",
    "            print(f\"Method {method} not available with current models. Using abstractive summarization.\")\n",
    "            return self._generate_llm_summary(text, method=\"abstractive\", max_length=max_length)\n",
    "\n",
    "    def summarize_document(self, source_chunks: List[Dict[str, Any]], method: str = \"abstractive\") -> Dict[str, Any]:\n",
    "        \"\"\"Generate a summary for an entire document from its chunks.\"\"\"\n",
    "\n",
    "        if not source_chunks:\n",
    "            return {\"summary\": \"\", \"method\": method}\n",
    "\n",
    "        # Combine chunks into a single text\n",
    "        combined_text = \"\"\n",
    "        source = source_chunks[0].get(\"source\", \"unknown\")\n",
    "\n",
    "        for chunk in source_chunks:\n",
    "            combined_text += chunk.get(\"text\", \"\") + \" \"\n",
    "            tables = chunk.get(\"tables\")\n",
    "            if tables and isinstance(tables, list):\n",
    "                combined_text += \" \".join(map(str, tables)) + \" \"\n",
    "\n",
    "        # Generate summary\n",
    "        summary = self.summarize_text(combined_text, method=method)\n",
    "\n",
    "        return {\n",
    "            \"source\": source,\n",
    "            \"summary\": summary,\n",
    "            \"method\": method,\n",
    "            \"chunk_count\": len(source_chunks)\n",
    "        }\n",
    "\n",
    "    def evaluate_summary(self, reference: str, summary: str) -> Dict[str, Any]:\n",
    "        \"\"\"Evaluate a summary using ROUGE metrics.\"\"\"\n",
    "        if not reference or not summary:\n",
    "            return {\"rouge-1\": 0, \"rouge-2\": 0, \"rouge-l\": 0}\n",
    "\n",
    "        try:\n",
    "            scores = self.rouge_evaluator.get_scores(summary, reference)[0]\n",
    "            return {\n",
    "                \"rouge-1\": scores[\"rouge-1\"][\"f\"],\n",
    "                \"rouge-2\": scores[\"rouge-2\"][\"f\"],\n",
    "                \"rouge-l\": scores[\"rouge-l\"][\"f\"]\n",
    "            }\n",
    "        except Exception as e:\n",
    "            print(f\"Error calculating ROUGE scores: {str(e)}\")\n",
    "            return {\"rouge-1\": 0, \"rouge-2\": 0, \"rouge-l\": 0}\n",
    "\n",
    "\n",
    "    @measure_token_processing(\"Summary Generation\")\n",
    "    def generate_multiple_summaries(self, text: str, count: int = 3, max_length: int = 500) -> List[str]:\n",
    "        \"\"\"Generate multiple summaries for the same text.\"\"\"\n",
    "\n",
    "        summaries = []\n",
    "\n",
    "        if self.generator is None:\n",
    "            print(\"LLM not available for generating multiple summaries.\")\n",
    "            return [\"LLM not available for summarization.\"] * count\n",
    "\n",
    "        # Create prompt for generating multiple summaries\n",
    "        prompt = f\"\"\"<|system|>\n",
    "                  You are an expert summarizer. Provide exactly {count} different short summaries of the following text.\n",
    "                  Number each summary clearly as \"Summary 1:\", \"Summary 2:\", etc.\n",
    "                  Each summary should be clear, concise, and capture the key points of the text.\n",
    "                  Aim for around 2-3 sentences for each summary.\n",
    "                  </s>\n",
    "\n",
    "                  <|user|>\n",
    "                  TEXT TO SUMMARIZE:\n",
    "                  {text}\n",
    "\n",
    "                  Please create exactly {count} different summaries of the text above, numbered clearly.\n",
    "                  </s>\n",
    "\n",
    "                  <|assistant|>\n",
    "                  \"\"\"\n",
    "\n",
    "        try:\n",
    "            # Calculate tokens and determine max_new_tokens\n",
    "            input_ids = self.tokenizer(prompt, return_tensors=\"pt\").input_ids\n",
    "            input_length = input_ids.size(1)\n",
    "\n",
    "            context_window = 6000  # Typical for Llama models\n",
    "            max_new_tokens = min(max_length * count * 2, context_window - input_length)\n",
    "\n",
    "            # Generate summaries\n",
    "            outputs = self.generator(\n",
    "                prompt,\n",
    "                max_new_tokens=max_new_tokens,\n",
    "                temperature=0.7,  # Higher temperature for more variation\n",
    "                top_p=0.9,\n",
    "                do_sample=True,\n",
    "                pad_token_id=self.tokenizer.eos_token_id,\n",
    "                num_return_sequences=1\n",
    "            )\n",
    "\n",
    "            # Extract the generated text\n",
    "            generated_text = outputs[0][\"generated_text\"][len(prompt):].strip()\n",
    "\n",
    "            # Clean up and parse the multiple summaries\n",
    "            clean_text = generated_text.split(\"</s>\")[0].split(\"<|user|>\")[0].split(\"<|system|>\")[0].strip()\n",
    "\n",
    "            # Split by Summary headings\n",
    "            summaries = []\n",
    "            lines = clean_text.split('\\n')\n",
    "            current_summary = \"\"\n",
    "\n",
    "            for line in lines:\n",
    "                if line.strip().startswith(\"Summary\") and \":\" in line:\n",
    "                    if current_summary:\n",
    "                        summaries.append(current_summary.strip())\n",
    "                    current_summary = \"\"\n",
    "                else:\n",
    "                    current_summary += line + \"\\n\"\n",
    "\n",
    "            # Add the last summary if exists\n",
    "            if current_summary:\n",
    "                summaries.append(current_summary.strip())\n",
    "\n",
    "            # Ensure we have the requested number of summaries\n",
    "            if len(summaries) < count:\n",
    "                print(f\"Only generated {len(summaries)} summaries instead of {count}.\")\n",
    "                # Duplicate the last summary to reach the desired count if needed\n",
    "                while len(summaries) < count:\n",
    "                    summaries.append(summaries[-1] if summaries else \"\")\n",
    "            elif len(summaries) > count:\n",
    "                # Take only the first 'count' summaries\n",
    "                summaries = summaries[:count]\n",
    "\n",
    "            return summaries\n",
    "\n",
    "        except Exception as e:\n",
    "            print(f\"Error generating multiple summaries: {str(e)}\")\n",
    "            return [\"Error generating summary.\"] * count\n",
    "\n",
    "\n",
    "    @measure_token_processing(\"Summary Generation\")\n",
    "    def generate_confidence_scored_summaries(self, text: str, count: int = 3) -> List[Dict[str, Any]]:\n",
    "        \"\"\"Generate summaries with confidence scores.\"\"\"\n",
    "\n",
    "        if self.generator is None:\n",
    "            print(\"LLM not available for generating confidence-scored summaries.\")\n",
    "            return [{\"summary\": \"LLM not available\", \"confidence\": 0.0}] * count\n",
    "\n",
    "        prompt = f\"\"\"<|system|>\n",
    "                  You are a summarization system that provides summaries with confidence scores.\n",
    "                  You must respond with EXACTLY {count} summaries, each with a confidence score.\n",
    "                  Format each summary as follows:\n",
    "\n",
    "                  SUMMARY 1:\n",
    "                  [The summary text goes here]\n",
    "                  CONFIDENCE: [A number between 0.0 and 1.0]\n",
    "\n",
    "                  SUMMARY 2:\n",
    "                  [The summary text goes here]\n",
    "                  CONFIDENCE: [A number between 0.0 and 1.0]\n",
    "\n",
    "                  And so on. Use this exact format - with \"SUMMARY\" and \"CONFIDENCE\" labels.\n",
    "                  </s>\n",
    "\n",
    "                  <|user|>\n",
    "                  TEXT TO SUMMARIZE:\n",
    "                  {text}\n",
    "\n",
    "                  Please provide exactly {count} summaries with confidence scores using the required format.\n",
    "                  </s>\n",
    "\n",
    "                  <|assistant|>\n",
    "                  \"\"\"\n",
    "\n",
    "        try:\n",
    "            # Generate response\n",
    "            outputs = self.generator(\n",
    "                prompt,\n",
    "                max_new_tokens=2000,\n",
    "                temperature=0.3,\n",
    "                top_p=0.9,\n",
    "                do_sample=True,\n",
    "                pad_token_id=self.tokenizer.eos_token_id,\n",
    "                num_return_sequences=1\n",
    "            )\n",
    "\n",
    "            # Extract and process the generated text\n",
    "            generated_text = outputs[0][\"generated_text\"][len(prompt):].strip()\n",
    "            clean_text = generated_text.split(\"</s>\")[0].split(\"<|user|>\")[0].split(\"<|system|>\")[0].strip()\n",
    "\n",
    "            # Parse the formatted response\n",
    "            summaries = []\n",
    "            sections = clean_text.split(\"\\nSUMMARY \")\n",
    "\n",
    "            # Process first section separately if it doesn't start with \"SUMMARY\"\n",
    "            start_idx = 0\n",
    "            if not sections[0].strip().startswith(\"SUMMARY\"):\n",
    "                start_idx = 1\n",
    "\n",
    "            for i in range(start_idx, len(sections)):\n",
    "                section = sections[i].strip()\n",
    "                if not section:\n",
    "                    continue\n",
    "\n",
    "                # Extract confidence score\n",
    "                confidence_parts = section.split(\"CONFIDENCE:\")\n",
    "                summary_text = confidence_parts[0]\n",
    "\n",
    "                if len(confidence_parts) > 1:\n",
    "                    # Try to extract the confidence score\n",
    "                    try:\n",
    "                        confidence_str = confidence_parts[1].strip().split(\"\\n\")[0].strip()\n",
    "                        confidence = float(confidence_str)\n",
    "                        # Ensure confidence is between 0 and 1\n",
    "                        confidence = max(0.0, min(1.0, confidence))\n",
    "                    except (ValueError, IndexError):\n",
    "                        confidence = 0.5\n",
    "                else:\n",
    "                    confidence = 0.5\n",
    "\n",
    "                # Clean up the summary text\n",
    "                if \":\" in summary_text and summary_text.split(\":\", 1)[0].strip().isdigit():\n",
    "                    summary_text = summary_text.split(\":\", 1)[1].strip()\n",
    "                else:\n",
    "                    summary_text = summary_text.strip()\n",
    "\n",
    "                summaries.append({\"text\": summary_text, \"confidence\": confidence})\n",
    "\n",
    "            # Ensure we have the requested number of summaries\n",
    "            while len(summaries) < count:\n",
    "                summaries.append({\"text\": \"\", \"confidence\": 0.0})\n",
    "            if len(summaries) > count:\n",
    "                summaries = summaries[:count]\n",
    "\n",
    "            return summaries\n",
    "\n",
    "        except Exception as e:\n",
    "            print(f\"Error generating confidence-scored summaries: {str(e)}\")\n",
    "            return [{\"text\": \"Error generating summary.\", \"confidence\": 0.0}] * count\n",
    "\n",
    "    def evaluate_summaries_with_llm(self, original_text: str, summaries: List[str]) -> Dict[str, Any]:\n",
    "        \"\"\"Use the LLM to evaluate and rank multiple summaries.\"\"\"\n",
    "\n",
    "        if self.generator is None or not summaries:\n",
    "            return {\"best_summary_index\": 0, \"explanation\": \"LLM not available for evaluation\"}\n",
    "\n",
    "        # Format summaries for the prompt\n",
    "        summaries_text = \"\"\n",
    "        for i, summary in enumerate(summaries):\n",
    "            summaries_text += f\"Summary {i+1}:\\n{summary}\\n\\n\"\n",
    "\n",
    "        prompt = f\"\"\"<|system|>\n",
    "                  You are an expert at evaluating summaries. You will be given an original text and\n",
    "                  several summaries of that text. Your task is to evaluate the summaries and determine\n",
    "                  which one is the best in terms of clarity, completeness, and relevance.\n",
    "\n",
    "                  You MUST begin your response with \"BEST SUMMARY: X\" where X is the number of the best summary.\n",
    "                  Then provide your explanation on a new line.\n",
    "                  </s>\n",
    "\n",
    "                  <|user|>\n",
    "                  ORIGINAL TEXT:\n",
    "                  {original_text}\n",
    "\n",
    "                  SUMMARIES:\n",
    "                  {summaries_text}\n",
    "\n",
    "                  Please evaluate these summaries and determine which one is the best.\n",
    "                  Start with \"BEST SUMMARY: X\" where X is the number, then explain your choice.\n",
    "                  </s>\n",
    "\n",
    "                  <|assistant|>\n",
    "                  \"\"\"\n",
    "\n",
    "        try:\n",
    "            outputs = self.generator(\n",
    "                prompt,\n",
    "                max_new_tokens=1500,\n",
    "                temperature=0.3,\n",
    "                top_p=0.9,\n",
    "                do_sample=True,\n",
    "                pad_token_id=self.tokenizer.eos_token_id,\n",
    "                num_return_sequences=1\n",
    "            )\n",
    "\n",
    "            # Extract and process the evaluation\n",
    "            evaluation = outputs[0][\"generated_text\"][len(prompt):].strip()\n",
    "            evaluation = evaluation.split(\"</s>\")[0].split(\"<|user|>\")[0].split(\"<|system|>\")[0].strip()\n",
    "\n",
    "            # Extract the best summary number from the formatted response\n",
    "            best_summary_index = 0  # Default to first summary\n",
    "            explanation = evaluation\n",
    "\n",
    "            if evaluation.startswith(\"BEST SUMMARY:\"):\n",
    "                first_line = evaluation.split(\"\\n\")[0].strip()\n",
    "                number_part = first_line.replace(\"BEST SUMMARY:\", \"\").strip()\n",
    "\n",
    "                try:\n",
    "                    index = int(number_part) - 1  # Convert to 0-based index\n",
    "                    if 0 <= index < len(summaries):\n",
    "                        best_summary_index = index\n",
    "                        # Remove the first line from explanation\n",
    "                        explanation = \"\\n\".join(evaluation.split(\"\\n\")[1:]).strip()\n",
    "                except ValueError:\n",
    "                    pass\n",
    "\n",
    "            return {\n",
    "                \"best_summary_index\": best_summary_index,\n",
    "                \"best_summary\": summaries[best_summary_index],\n",
    "                \"explanation\": explanation\n",
    "            }\n",
    "\n",
    "        except Exception as e:\n",
    "            print(f\"Error evaluating summaries with LLM: {str(e)}\")\n",
    "            return {\"best_summary_index\": 0, \"explanation\": f\"Error: {str(e)}\"}\n",
    "\n",
    "\n",
    "    @measure_token_processing(\"Summary Generation\")\n",
    "    def generate_and_evaluate_summaries(self, text: str, count: int = 3) -> Dict[str, Any]:\n",
    "        \"\"\"Generate multiple summaries and evaluate them to select the best one.\"\"\"\n",
    "\n",
    "        # Generate multiple summaries\n",
    "        summaries = self.generate_multiple_summaries(text, count)\n",
    "\n",
    "        # Evaluate to find the best one\n",
    "        evaluation = self.evaluate_summaries_with_llm(text, summaries)\n",
    "\n",
    "        best_index = evaluation.get(\"best_summary_index\", 0)\n",
    "        best_summary = summaries[best_index]\n",
    "\n",
    "        # Calculate ROUGE scores for the best summary if we have a reference\n",
    "        rouge_scores = {}\n",
    "        if hasattr(self, \"reference_summary\") and self.reference_summary:\n",
    "            rouge_scores = self.evaluate_summary(self.reference_summary, best_summary)\n",
    "\n",
    "        return {\n",
    "            \"all_summaries\": summaries,\n",
    "            \"best_summary\": best_summary,\n",
    "            \"best_summary_index\": best_index,\n",
    "            \"evaluation_explanation\": evaluation.get(\"explanation\", \"\"),\n",
    "            \"rouge_scores\": rouge_scores\n",
    "        }\n",
    "\n",
    "\n",
    "    @measure_token_processing(\"Summary Generation\")\n",
    "    def two_step_summarization(self, text: str) -> Dict[str, Any]:\n",
    "        \"\"\"Perform a two-step summarization process:\n",
    "        1. Generate multiple summaries\n",
    "        2. Evaluate and select the best summary\n",
    "        \"\"\"\n",
    "        # Step 1: Generate summaries\n",
    "        summaries = self.generate_multiple_summaries(text, count=3)\n",
    "\n",
    "        # Step 2: Evaluate and select the best one\n",
    "        result = self.evaluate_summaries_with_llm(text, summaries)\n",
    "\n",
    "        return {\n",
    "            \"original_text_length\": len(text),\n",
    "            \"summaries\": summaries,\n",
    "            \"selected_summary\": result.get(\"best_summary\", summaries[0]),\n",
    "            \"evaluation\": result.get(\"explanation\", \"\")\n",
    "        }"
   ]
  },
  {
   "cell_type": "code",
   "execution_count": 8,
   "metadata": {
    "colab": {
     "base_uri": "https://localhost:8080/",
     "height": 1000,
     "referenced_widgets": [
      "888c749a875c439b967205f594f246ef",
      "50561310116149c8ae3d0d0fdd282bc8",
      "b98e800dd82e40e191aa3ac683adc04a",
      "ebcf1fae779943e2add8ad74ae0f6879",
      "59309d14235d4de1b68351c0c7b844f2",
      "2df03c85691b483fa0da9059f912cb79",
      "19d783ef6bd04544b2d933c1a5a28204",
      "a1949a160c5e47ea83c78facb8ccf2ab",
      "3eebc04995314353b8c69033657f24aa",
      "100188a15a064b43887571014aa902be",
      "08e07c75b29743d78bdf9bef399553fa",
      "3d454304bbcf48268b41533ea40f7d87",
      "055dbe6149a04052b10d0171bce5612c",
      "905ad4b9d0d5429baed7cef5bef072f4",
      "05f84e9b447c4f5ba3aede4c84612a92",
      "505ab529211d4df5a8b050b75a9df26f",
      "a351623d1bc446a6add1d36d710120ba",
      "a85505d1d03a414fb97735c2c52d2174",
      "24b84e63f1e244d381031b5f92dca8f6",
      "c2c22903dbb1430fb1a227dc93443063",
      "ce22a763a6bd45d9955b649f44d84e9c",
      "c5f85fbbf01749e780515bf991488907",
      "83d840dcee574573917511c0656b98b7",
      "3b746170a85742fbafc9dd120663881e",
      "ee268377e6a749ad91bee7060fc1c34e",
      "76f8c53b1bfd4532a32be34fe909b91a",
      "2a8572f7efdf420e88218db1a3db654f",
      "07f64c0b510d4b58a1cf5cc13139a43a",
      "16182c2a76054aad90aa2abeda3a20d2",
      "78647b96b3ad4b3699b19fa6805ec0e4",
      "68b6f5a6551d4f408ded27346b20e09e",
      "db6fbfded3a244b9be6f1786600033eb",
      "73b335bd80284c6b92d3fa3298bcc223",
      "2972f0b084844b47bbc21a933b4c7a94",
      "809d2a7b6c38447dac6ed60022ca89f6",
      "ac0bd6b721b442f0bf2229f6f0419036",
      "63a3427fe61540748d81a87800ad4a92",
      "ff0f34a85ac346779e0e6f8d2fffff09",
      "8090fff63e524ccfbff2fba614545ca3",
      "e67493fe67a0400ebfcc2a8a976496a2",
      "fb7bbfe99d6c46aaa122a26a6f389fb3",
      "a481cbf8df404a2f828b9fa3b2224c64",
      "bd2d7de648a84be699f2206b639fb6b2",
      "38e0cadff2e6482aab275e1c08953fba",
      "27aac97d334e43cbab4be4a17097af02",
      "4597fd81723a4686a2a3707419eba233",
      "b58758a2619446a08cbfbcc592ecd906",
      "41185ad8ebfd4ffb98f6eb51762edfe4",
      "4320e8bafdd94c438f009a8ddc5a60a3",
      "b5e16ebf9d8d46e592b746484db4eb08",
      "f5eb7f8a94e44ba988adfbd2952a8348",
      "2e829dd95deb43e8928b0529fcedf53c",
      "561bfb9158bf4d2781dafe147d8a5bd0",
      "40acd7cbf34f490fba58044af6952fe6",
      "d6f9220bc1fc4a0fb9456ff4a0a2672d",
      "39fee90789e24f14853eaaf5e9ed42a8",
      "274c08dc988e4e609c16c4b2a612b4a3",
      "b27aee5e35324adc9731b07dc8443ab2",
      "e904ecbaf5674fadaa2ed7a8518e441c",
      "ae06f41399a94a96ac59179936348ceb",
      "da5abcf941c34e0598ca8ecb2229fbe9",
      "4c4e80de2a464cd4a681b56185f919c3",
      "cce1543bd34041e583f4ea33c935cb0c",
      "049bd11bd37f4d8794c22642d572a6c1",
      "b7e6be50f02d4bd9a9b8e683448a3939",
      "35436233976b4c228151c7756d39745c",
      "b2d6d1570e094edbacbeedeeeabaa2d9",
      "ebcea796e14d487dbf3029495bd7af03",
      "83abed70e868414390539366745ec352",
      "36d8e2e45c004a2085e594f7d559bbf7",
      "ec5c8e4f81cb42d882001e075c5611fb",
      "42d1157c70c247b49d29f69cc887556b",
      "b3ede08f2d454cee81db5f2e6d022257",
      "7ad19d5312be416ab4759fa7d391ce23",
      "f3cef3dcd7c94d428bfdb0a920d80735",
      "71a3b8d09f1845798a085414039a8f88",
      "ed36cb6312aa42ffa6890ca446cd3751",
      "8140718fea0e496e81190d63e5b5123d",
      "397c476b127e493c9fbae035f08d1c34",
      "98c2c666a74441c5b679572b7068af7a",
      "ae234ae15ceb41e0af00ec064a282b7d",
      "4ddcff3bac464ad5b42b80a789563c89",
      "52899f66d7b04ffa82c50871d44c84ac",
      "e02e0476bb144004b180a10292d14876",
      "f8656aae149747e7828808982c3c37cc",
      "8b30fd73fc2b4c8aa8d8bd39cce1c479",
      "72c26b977e5e46a391a03a901b586641",
      "86384087d2104d78a618b5cf98fe566d",
      "87ec18efcdba4c1e90a0e1fd5e890b4e",
      "59f42aeabeba46a9a92cb73cbba1c030",
      "1ccd27d5a4f7448db8c1ead685c25dd4",
      "7c2d2936ef8b4e5da795ed1d1d9cfb45",
      "d5b51ff7bb8344a3a0b9bcaebd287329",
      "e830d5ebc8834f49b441e9c958dcfaa0",
      "4eed6ba7438d4f4fae8670faa5a7de19",
      "6eaa8db56510461a82600588273b9954",
      "d01ad0a7c29846ab9e4b406a95cc08fc",
      "353f292e6c304c5bb15582ab0f3485d4",
      "480c6936dc5a4ee485d896038a2c863f",
      "761b5c0bec6140e792a84087ce0e576a",
      "9fd512d7162346c78d91374e8a0dec14",
      "3a5da961fb364523a413b03bfe91f81c",
      "fbf7e81d87454b1495bd3539673625d3",
      "b1bac7ba4fe44c77bd5303baf982c64a",
      "14bb1879e0334834a5469f2769301d82",
      "b68b06c4fd734295bc907d4e29a0502c",
      "c08b33696a584313aafe583d792fef95",
      "f889fbf62e7840e4b3ae39a21f3866a6",
      "2e85d4b5942b4a67afec56396769d45d",
      "50a58f8e8d3b4a868798f878a19c541a",
      "0e27be4b7ebd4b3c990626a1f5615b83",
      "5b3773e1aef34904b60abcf2d4307308",
      "f493207e56bf4284a839546f071add51",
      "620e3c164dda4c7d8ba55e0eb5676e1f",
      "4c0d56470c734ab7b456fe265af76914",
      "4feb442bb7534c12baf41f8e3a5b5cf5",
      "9c1d176ff6dc4bc29e29dab321c2db61",
      "2786e5fdcf8f44b2bd88dfe63f49023d",
      "2263f0494092498992f363ec6f77ea9e",
      "d7444b2e8ce844898f00180dc61c8c01",
      "01986a82725048e6b6acf970c1e044d4",
      "b8490503d2e84b57833b8fe723ebd6d2",
      "8e851899b0724460b33cb00861fb00a0",
      "24f0c2241ec747feacb556cde7259415",
      "df3d24ae8e52481ba2f4510259f43ef7",
      "0548caeb62ca4e2b95304955e101a00f",
      "6b03531ccebd4ae193987d5267a9cf92",
      "8e5726d933404e2dbd69db1a5cb36a1c",
      "65968aec91c54d37b47ab580c1a3989b",
      "b9a129d03ff048398216480176e507e1",
      "abe5bfddd4db445f801954a9d5d39d2c",
      "bc6ea74c018f43b3bf59614ae9320335",
      "e3dbc8c1192c46ddb6bf9c9274464c90",
      "eca534ee57214b1390c5f8b67dfe17fc",
      "b1b3867f8a94428da0e294059a2d0190",
      "135fe409f0e44989a90600d1a62b26ae",
      "3e971228a546440abd1175c37785885a",
      "583673a340da4e488f10d379d623d04e",
      "a2aa658f860c4492b23586e6a645b503",
      "d151142f38bf4f79aed1f0ab3e3964bf",
      "fd7a06a6a6354348aa3ee73afb6cff86",
      "7c7ed9fc9a9c4d68abb1e34f27cd4eaa",
      "e8a9a8b8c82a49338df8b78fd191df99",
      "508ab26ed48546588e4dbe3df5354d01",
      "9b772cca61b74d598f988730635bf505",
      "216ff490b402474e85d31921a36e32b9",
      "133c76faf1a24048925a8b5a1e8b7686",
      "a91ffc04ce614b31a24fac11ef343fc6",
      "5800354581c14013a132b47b0d82c581",
      "e7773dbfc65844969478a5021e6c3b28",
      "492f06d158d04076a8e6a8489946d04f",
      "f9a4fe1e1f6643cfbe8a21e381780fbe",
      "159d2dd10f1c40f6ba0db222c85db080",
      "c2a4d9711e1c464c9712e197daf04f3e",
      "c039f3837caa4a91a828e687497fb0f6",
      "93a4a4a33d624fec83c6bb1c101d1272",
      "2135ae393ba546edbae8213833a339fb",
      "d8d7acfc670e4878a99a7c05f566292b",
      "62dd4667f15447b28d76db1bf969e5d2",
      "e0d4c5851d764b3e8b0ff5069140cf85",
      "955115199b5c4bf5842ead0765fbc4c4",
      "f984d9e6c8c349b6b5091fdf31b5023c",
      "b1b687ea47e04e108aa79b7f02667839",
      "acf8072c70254a2fa9e53b023455bee7",
      "fc389ae6725143c58a39e56545655270",
      "d6af2b9c3d20475c97e7ade6762912f6",
      "3fa2a169c5f944a29750a1acedf59255",
      "316a61a41ceb40b8bb33e457d8d03b0a",
      "cdf275cd81ad4523b0296099bc029a77",
      "4dcbe3f02b394b33a7c637441d386b17",
      "63ead81e20374d9aa24e33ec4abe6b11",
      "26b98b61ed5f4eb9ad552fbcfa5f4ae2",
      "17a823340eae4fb5ac722d95fbe7dc3b",
      "21ff428b70ac4495abc3b1a6581371d1",
      "bfcef7410bde4008962d49077a845cc6",
      "3f67f20521114bcf9c43edfedac27eec",
      "5f64d8fedbae4ce8af5be2958bc75392",
      "ead956a4467c459f84e970709ccb5d6f",
      "040d54f959f6453a96efba4c7dfdefa9",
      "542aff9b743e423895275868aa39af4a",
      "2eff15acfbf04237a47e8508dc159334",
      "62c493615184492ca23b507403397cc8",
      "8b27b61c6e15479dbaf297709bf81039",
      "5e216c77deeb4a0e9a11676ae04c20c5",
      "d75ec504113e404f81081cb342278c3f",
      "c526345220ed4068baf5af7f5fba198d",
      "6409a5e083b241ec95388752c6a11dc8",
      "ca00e92e83e343d2851a8b4c6374c201",
      "3307ebf0cf824174ad5bf78bd5eee3cc",
      "3d87cf1d9af34e1584e2173a658a16f2",
      "32ead11717004f768e1cedc5cee3ca85",
      "bd8f4040a1444b4ab73d631de67ea75c",
      "141df4fa72e74cb597347db178875cd8",
      "88fd6ca64a914bea80f7f02fa0cb0264",
      "d26e4a0eb54944e2941389d7c02af052",
      "59d0bcdd969a4a398ab156200dccb4b3",
      "06f0c1872e3d4fbb8f27483c6f62250a",
      "408bd753990b436bae1d47381dc3ac3b",
      "126fb242ff9241f5a65db57358fd7593",
      "a588c9dc327449479130e601ab837d69",
      "19a856df94274af2a970b8c442941425",
      "2139e99725fc4fe0933571caae730196",
      "d3c5c010575f46359d2a357961894bec",
      "a30fba2d57274d5abc3e9816c464c611",
      "20186f4fe8104163afc418c82bc1e104",
      "5c44bab164a34c11b677e3ec0af754b4",
      "2b7cf9eb4dab49eb927bbccd5e2ed350",
      "bb894f657bcc49dcacd75916c1422816",
      "d871675a083d490e81ae360bb713fda9",
      "61c6406b7499425fa5c8b60078a44c1e",
      "94789c02f35642fb8993e89ece59baf8",
      "9ab4d2ca191349168ff7bf1c1d9bcd65",
      "34964248ad534ed9aac4239ae467c2d2",
      "720212e54dec43fd9b9ea09e800886cd",
      "8f29027a2667497188d4224f451ac451",
      "73778ab09e7242f5a54e0bd37efc5753",
      "9f5f88ce920441129c8bb67775b2fc47",
      "fdc6465c4e84480fb4cdca23f14b94fa",
      "7d4fe0dbdcad4d029fb5b15e23ab38ce",
      "f1c297b6243c46d6a126a04e358ec417",
      "2bba8f81d7c7433486ade8e6c76f183b",
      "1a640f6151014cc4a4166d6a5b69751b",
      "7110a0e361a14dfc9a2e5251b966a56f",
      "8c5a301402824eee800a3bdbf8c0dcea",
      "4e54ba79e1ec42f893b452216d5d6ca9",
      "c641ac436eb64c5b8d2f3a0e835d2c66",
      "30798d36ff77452f908f89c538baf8ec",
      "e122aa0d58f0464891ff10829d90cede",
      "5fb61e808c5344e4b91811c3293141e8",
      "3126a9be48224d1cb37871eaa89922ab",
      "ce53454c58ec46f6a92492aa587f67d3",
      "b98dff6dc4064b27a595247e876151d5",
      "51d7073148994c69a120986363d913a2",
      "6d712e0f2dee476f831954cdd0027c93",
      "48467a39eb3341f0983879ed61be2b57",
      "23c12c2f306844e693d47d12496da57f",
      "ae8535b12b1f46e8b21bcd4ebf0e1ba6",
      "c697f52a826342a485f40aed61e2319f",
      "50ce9bb74763447ab3ec7448ea36a025",
      "a7f05a8f70ce49b59282b1f04996d9c1",
      "631f129043944160b780aeb05cdea3f7",
      "37522a55fbb14f1ebdf480fa54f60fa9",
      "f80c1284417249e285b57e33466bb59b",
      "6f1f4e28692c4c42b063112853579bc2",
      "4dd0008e4bba447e95c60a9d079a0538",
      "8c008491e16248a68c2b3ff5439b7703",
      "1e4ca3e29df542728cd0f364ea3016bc",
      "54eb9aa037694d659b50cc09a6aeb11f",
      "68588c35199b4c669b88dc6ef59a2540",
      "838000b79df244da825bc15fd3fd8401",
      "9daa21ac3efc4cd9a7e0902a3ba9649a",
      "0463eb21e29147819caedea74e389b09",
      "66162ed147ba430d888ca012a1fe99ba",
      "a50baa817e37448e9bc7cb6f9faed744",
      "49994fb7c0e440d1b7c6f8acfd59c651",
      "a9f8cb0f4a804a6ba8abd5a2d768701e",
      "ab4f6d387d88423ebe525e076d1abdbb",
      "3770ff7a55cd4fd8b770eb63af3f94ae",
      "e1e412599b6f4a6da2139e404de8f402",
      "8468a21508d14e95866f8a17716ca936",
      "74973e4a68214a34a4d2fb739c162b8b",
      "c03897ef012340e9a163f06ded83cf0a",
      "32ab8a128d0b41bd90b4436fbb61691d",
      "1cb90c1b28c54ef7a8fcae98202a0668",
      "f0914d1e207042df9b118885459a57d2",
      "5180922c7ac849e282af3bf2d65fe81b",
      "d009b5b48f7943bf8ffb77463ac9f62d",
      "2c0bc8ca6bc245ef99b3024773a50c13",
      "d093c952baaa48f78245e911ef2bedcd",
      "f2bf550ecdba45c88aa7e63eb564a927",
      "858922bea7a848f68d8b105eeecc2510",
      "08b688a974fe4aaaa679fbb4d617f9b9",
      "0fbb412dbc154b7d80a282bee63533f5",
      "c7c8df1c3e6948c1b47cbc48c82f9fff",
      "e61d2f1a7a5945cd894d89a2b9c58168"
     ]
    },
    "id": "dS-jlFa7Ypdg",
    "outputId": "231f7d2f-14d7-4a90-9a79-bedcd278d8cc"
   },
   "outputs": [
    {
     "name": "stdout",
     "output_type": "stream",
     "text": [
      "-----Initializing Summarization System...-----\n",
      "\n",
      "Using device: cuda\n",
      "-----Loading LLM: meta-llama/Meta-Llama-3-8B-Instruct-----\n",
      "\n"
     ]
    },
    {
     "data": {
      "application/vnd.jupyter.widget-view+json": {
       "model_id": "888c749a875c439b967205f594f246ef",
       "version_major": 2,
       "version_minor": 0
      },
      "text/plain": [
       "tokenizer_config.json:   0%|          | 0.00/51.0k [00:00<?, ?B/s]"
      ]
     },
     "metadata": {},
     "output_type": "display_data"
    },
    {
     "data": {
      "application/vnd.jupyter.widget-view+json": {
       "model_id": "3d454304bbcf48268b41533ea40f7d87",
       "version_major": 2,
       "version_minor": 0
      },
      "text/plain": [
       "tokenizer.json:   0%|          | 0.00/9.09M [00:00<?, ?B/s]"
      ]
     },
     "metadata": {},
     "output_type": "display_data"
    },
    {
     "data": {
      "application/vnd.jupyter.widget-view+json": {
       "model_id": "83d840dcee574573917511c0656b98b7",
       "version_major": 2,
       "version_minor": 0
      },
      "text/plain": [
       "special_tokens_map.json:   0%|          | 0.00/73.0 [00:00<?, ?B/s]"
      ]
     },
     "metadata": {},
     "output_type": "display_data"
    },
    {
     "data": {
      "application/vnd.jupyter.widget-view+json": {
       "model_id": "2972f0b084844b47bbc21a933b4c7a94",
       "version_major": 2,
       "version_minor": 0
      },
      "text/plain": [
       "config.json:   0%|          | 0.00/654 [00:00<?, ?B/s]"
      ]
     },
     "metadata": {},
     "output_type": "display_data"
    },
    {
     "name": "stderr",
     "output_type": "stream",
     "text": [
      "The `load_in_4bit` and `load_in_8bit` arguments are deprecated and will be removed in the future versions. Please, pass a `BitsAndBytesConfig` object in `quantization_config` argument instead.\n"
     ]
    },
    {
     "data": {
      "application/vnd.jupyter.widget-view+json": {
       "model_id": "27aac97d334e43cbab4be4a17097af02",
       "version_major": 2,
       "version_minor": 0
      },
      "text/plain": [
       "model.safetensors.index.json:   0%|          | 0.00/23.9k [00:00<?, ?B/s]"
      ]
     },
     "metadata": {},
     "output_type": "display_data"
    },
    {
     "data": {
      "application/vnd.jupyter.widget-view+json": {
       "model_id": "39fee90789e24f14853eaaf5e9ed42a8",
       "version_major": 2,
       "version_minor": 0
      },
      "text/plain": [
       "Fetching 4 files:   0%|          | 0/4 [00:00<?, ?it/s]"
      ]
     },
     "metadata": {},
     "output_type": "display_data"
    },
    {
     "data": {
      "application/vnd.jupyter.widget-view+json": {
       "model_id": "b2d6d1570e094edbacbeedeeeabaa2d9",
       "version_major": 2,
       "version_minor": 0
      },
      "text/plain": [
       "model-00001-of-00004.safetensors:   0%|          | 0.00/4.98G [00:00<?, ?B/s]"
      ]
     },
     "metadata": {},
     "output_type": "display_data"
    },
    {
     "data": {
      "application/vnd.jupyter.widget-view+json": {
       "model_id": "8140718fea0e496e81190d63e5b5123d",
       "version_major": 2,
       "version_minor": 0
      },
      "text/plain": [
       "model-00002-of-00004.safetensors:   0%|          | 0.00/5.00G [00:00<?, ?B/s]"
      ]
     },
     "metadata": {},
     "output_type": "display_data"
    },
    {
     "data": {
      "application/vnd.jupyter.widget-view+json": {
       "model_id": "87ec18efcdba4c1e90a0e1fd5e890b4e",
       "version_major": 2,
       "version_minor": 0
      },
      "text/plain": [
       "model-00004-of-00004.safetensors:   0%|          | 0.00/1.17G [00:00<?, ?B/s]"
      ]
     },
     "metadata": {},
     "output_type": "display_data"
    },
    {
     "data": {
      "application/vnd.jupyter.widget-view+json": {
       "model_id": "761b5c0bec6140e792a84087ce0e576a",
       "version_major": 2,
       "version_minor": 0
      },
      "text/plain": [
       "model-00003-of-00004.safetensors:   0%|          | 0.00/4.92G [00:00<?, ?B/s]"
      ]
     },
     "metadata": {},
     "output_type": "display_data"
    },
    {
     "data": {
      "application/vnd.jupyter.widget-view+json": {
       "model_id": "0e27be4b7ebd4b3c990626a1f5615b83",
       "version_major": 2,
       "version_minor": 0
      },
      "text/plain": [
       "Loading checkpoint shards:   0%|          | 0/4 [00:00<?, ?it/s]"
      ]
     },
     "metadata": {},
     "output_type": "display_data"
    },
    {
     "data": {
      "application/vnd.jupyter.widget-view+json": {
       "model_id": "b8490503d2e84b57833b8fe723ebd6d2",
       "version_major": 2,
       "version_minor": 0
      },
      "text/plain": [
       "generation_config.json:   0%|          | 0.00/187 [00:00<?, ?B/s]"
      ]
     },
     "metadata": {},
     "output_type": "display_data"
    },
    {
     "name": "stderr",
     "output_type": "stream",
     "text": [
      "Device set to use cuda:0\n"
     ]
    },
    {
     "name": "stdout",
     "output_type": "stream",
     "text": [
      "-----Loading embedding model: nomic-ai/nomic-embed-text-v1.5-----\n",
      "\n"
     ]
    },
    {
     "data": {
      "application/vnd.jupyter.widget-view+json": {
       "model_id": "e3dbc8c1192c46ddb6bf9c9274464c90",
       "version_major": 2,
       "version_minor": 0
      },
      "text/plain": [
       "modules.json:   0%|          | 0.00/255 [00:00<?, ?B/s]"
      ]
     },
     "metadata": {},
     "output_type": "display_data"
    },
    {
     "data": {
      "application/vnd.jupyter.widget-view+json": {
       "model_id": "508ab26ed48546588e4dbe3df5354d01",
       "version_major": 2,
       "version_minor": 0
      },
      "text/plain": [
       "config_sentence_transformers.json:   0%|          | 0.00/140 [00:00<?, ?B/s]"
      ]
     },
     "metadata": {},
     "output_type": "display_data"
    },
    {
     "data": {
      "application/vnd.jupyter.widget-view+json": {
       "model_id": "c039f3837caa4a91a828e687497fb0f6",
       "version_major": 2,
       "version_minor": 0
      },
      "text/plain": [
       "README.md:   0%|          | 0.00/71.8k [00:00<?, ?B/s]"
      ]
     },
     "metadata": {},
     "output_type": "display_data"
    },
    {
     "data": {
      "application/vnd.jupyter.widget-view+json": {
       "model_id": "d6af2b9c3d20475c97e7ade6762912f6",
       "version_major": 2,
       "version_minor": 0
      },
      "text/plain": [
       "sentence_bert_config.json:   0%|          | 0.00/120 [00:00<?, ?B/s]"
      ]
     },
     "metadata": {},
     "output_type": "display_data"
    },
    {
     "data": {
      "application/vnd.jupyter.widget-view+json": {
       "model_id": "5f64d8fedbae4ce8af5be2958bc75392",
       "version_major": 2,
       "version_minor": 0
      },
      "text/plain": [
       "config.json:   0%|          | 0.00/2.06k [00:00<?, ?B/s]"
      ]
     },
     "metadata": {},
     "output_type": "display_data"
    },
    {
     "data": {
      "application/vnd.jupyter.widget-view+json": {
       "model_id": "ca00e92e83e343d2851a8b4c6374c201",
       "version_major": 2,
       "version_minor": 0
      },
      "text/plain": [
       "configuration_hf_nomic_bert.py:   0%|          | 0.00/1.96k [00:00<?, ?B/s]"
      ]
     },
     "metadata": {},
     "output_type": "display_data"
    },
    {
     "name": "stderr",
     "output_type": "stream",
     "text": [
      "A new version of the following files was downloaded from https://huggingface.co/nomic-ai/nomic-bert-2048:\n",
      "- configuration_hf_nomic_bert.py\n",
      ". Make sure to double-check they do not contain any added malicious code. To avoid downloading new versions of the code file, you can pin a revision.\n"
     ]
    },
    {
     "data": {
      "application/vnd.jupyter.widget-view+json": {
       "model_id": "126fb242ff9241f5a65db57358fd7593",
       "version_major": 2,
       "version_minor": 0
      },
      "text/plain": [
       "modeling_hf_nomic_bert.py:   0%|          | 0.00/103k [00:00<?, ?B/s]"
      ]
     },
     "metadata": {},
     "output_type": "display_data"
    },
    {
     "name": "stderr",
     "output_type": "stream",
     "text": [
      "A new version of the following files was downloaded from https://huggingface.co/nomic-ai/nomic-bert-2048:\n",
      "- modeling_hf_nomic_bert.py\n",
      ". Make sure to double-check they do not contain any added malicious code. To avoid downloading new versions of the code file, you can pin a revision.\n",
      "WARNING:transformers_modules.nomic-ai.nomic-bert-2048.e5042dce39060cc34bc223455f25cf1d26db4655.modeling_hf_nomic_bert:!!!!!!!!!!!!megablocks not available, using torch.matmul instead\n"
     ]
    },
    {
     "data": {
      "application/vnd.jupyter.widget-view+json": {
       "model_id": "61c6406b7499425fa5c8b60078a44c1e",
       "version_major": 2,
       "version_minor": 0
      },
      "text/plain": [
       "model.safetensors:   0%|          | 0.00/547M [00:00<?, ?B/s]"
      ]
     },
     "metadata": {},
     "output_type": "display_data"
    },
    {
     "name": "stderr",
     "output_type": "stream",
     "text": [
      "WARNING:transformers_modules.nomic-ai.nomic-bert-2048.e5042dce39060cc34bc223455f25cf1d26db4655.modeling_hf_nomic_bert:<All keys matched successfully>\n"
     ]
    },
    {
     "data": {
      "application/vnd.jupyter.widget-view+json": {
       "model_id": "2bba8f81d7c7433486ade8e6c76f183b",
       "version_major": 2,
       "version_minor": 0
      },
      "text/plain": [
       "tokenizer_config.json:   0%|          | 0.00/1.19k [00:00<?, ?B/s]"
      ]
     },
     "metadata": {},
     "output_type": "display_data"
    },
    {
     "data": {
      "application/vnd.jupyter.widget-view+json": {
       "model_id": "b98dff6dc4064b27a595247e876151d5",
       "version_major": 2,
       "version_minor": 0
      },
      "text/plain": [
       "vocab.txt:   0%|          | 0.00/232k [00:00<?, ?B/s]"
      ]
     },
     "metadata": {},
     "output_type": "display_data"
    },
    {
     "data": {
      "application/vnd.jupyter.widget-view+json": {
       "model_id": "f80c1284417249e285b57e33466bb59b",
       "version_major": 2,
       "version_minor": 0
      },
      "text/plain": [
       "tokenizer.json:   0%|          | 0.00/711k [00:00<?, ?B/s]"
      ]
     },
     "metadata": {},
     "output_type": "display_data"
    },
    {
     "data": {
      "application/vnd.jupyter.widget-view+json": {
       "model_id": "a50baa817e37448e9bc7cb6f9faed744",
       "version_major": 2,
       "version_minor": 0
      },
      "text/plain": [
       "special_tokens_map.json:   0%|          | 0.00/695 [00:00<?, ?B/s]"
      ]
     },
     "metadata": {},
     "output_type": "display_data"
    },
    {
     "data": {
      "application/vnd.jupyter.widget-view+json": {
       "model_id": "f0914d1e207042df9b118885459a57d2",
       "version_major": 2,
       "version_minor": 0
      },
      "text/plain": [
       "config.json:   0%|          | 0.00/286 [00:00<?, ?B/s]"
      ]
     },
     "metadata": {},
     "output_type": "display_data"
    }
   ],
   "source": [
    "print(\"-----Initializing Summarization System...-----\\n\")\n",
    "\n",
    "summarizer = SummarizationSystem()"
   ]
  },
  {
   "cell_type": "code",
   "execution_count": 9,
   "metadata": {
    "colab": {
     "base_uri": "https://localhost:8080/"
    },
    "id": "6fwmJAlYb_eM",
    "outputId": "ccf136c3-c53b-418e-c288-b75536de6646"
   },
   "outputs": [
    {
     "name": "stdout",
     "output_type": "stream",
     "text": [
      "Loaded 599 chunks from chunked_data/all_chunks.json\n",
      "\n"
     ]
    }
   ],
   "source": [
    "# Load chunks\n",
    "chunks = summarizer.load_chunks()\n",
    "if not chunks:\n",
    "    print(\"No chunks found. Pipeline aborted.\")"
   ]
  },
  {
   "cell_type": "code",
   "execution_count": 10,
   "metadata": {
    "id": "eKn7Uitechlo"
   },
   "outputs": [],
   "source": [
    "# Group chunks by source\n",
    "grouped_chunks = summarizer.group_chunks_by_source(chunks)"
   ]
  },
  {
   "cell_type": "code",
   "execution_count": 11,
   "metadata": {
    "colab": {
     "base_uri": "https://localhost:8080/"
    },
    "id": "i52X5eKodGkA",
    "outputId": "883b6c5c-2b5e-44c2-e8d1-e8f5187f1374"
   },
   "outputs": [
    {
     "data": {
      "text/plain": [
       "dict_keys(['new-approaches-and-procedures-for-cancer-treatment.pdf', 'The_Plan_of_the_Giza_Pyramids.pdf', 'The-Alchemist.pdf', 'Stats.docx', 'Ocean_ecogeochemistry_A_review.pdf', 'Dataset summaries and citations.docx', 'M.Sc. Applied Psychology.docx'])"
      ]
     },
     "execution_count": 11,
     "metadata": {},
     "output_type": "execute_result"
    }
   ],
   "source": [
    "grouped_chunks.keys()"
   ]
  },
  {
   "cell_type": "code",
   "execution_count": 13,
   "metadata": {
    "colab": {
     "base_uri": "https://localhost:8080/",
     "height": 122
    },
    "id": "OiPvb5dWkpAg",
    "outputId": "74b358fe-1775-4e2b-9e2c-d6fc2f873d25"
   },
   "outputs": [
    {
     "data": {
      "application/vnd.google.colaboratory.intrinsic+json": {
       "type": "string"
      },
      "text/plain": [
       "'Example 2 Unfinished Attic Ceiling Batt Insulation (Retrofit Installation Adder) Example for calculating the low, mid, and high retail price along with the associated labor for replacing (retrofitting) ceiling insulation in an unfinished attic with an R-Value of 15, using fiberglass batt insulation. The numbers in red correspond to the different coefficients in the Machine Readable CSV file for the performance metric and the low, mid, and high regressions: Where A is the R-value coefficient and C is the intercept value (constant). To produce the total installed cost, use the retrofit labor adder, (if this was for new construction, the new construction adder would be used): Therefore, the median material price is $0.86 per square foot and the labor cost is $1.00 per square foot for a total installed cost of $1.86 per square foot.'"
      ]
     },
     "execution_count": 13,
     "metadata": {},
     "output_type": "execute_result"
    }
   ],
   "source": [
    "grouped_chunks['Stats.docx'][-1]['text']"
   ]
  },
  {
   "cell_type": "markdown",
   "metadata": {
    "id": "9aXZpqf6wo2v"
   },
   "source": [
    "#### **Abstractive Summary**"
   ]
  },
  {
   "cell_type": "code",
   "execution_count": 14,
   "metadata": {
    "colab": {
     "base_uri": "https://localhost:8080/"
    },
    "id": "eleDlnM5xIi2",
    "outputId": "bd0b9146-19b8-46f7-9253-eb1f8ed1ccfd"
   },
   "outputs": [
    {
     "name": "stdout",
     "output_type": "stream",
     "text": [
      "⏱️ Summary Generation: 182 tokens processed in 24.55s (7.41 tokens/sec)\n",
      "\n",
      "   Total (in+out): 333 tokens at 13.56 tokens/sec\n",
      "\n",
      "\n"
     ]
    }
   ],
   "source": [
    "abstractive_summary = summarizer.summarize_text(grouped_chunks['Stats.docx'][-1]['text'], 'abstractive')"
   ]
  },
  {
   "cell_type": "code",
   "execution_count": 15,
   "metadata": {
    "colab": {
     "base_uri": "https://localhost:8080/"
    },
    "id": "DvE_QqzLkIVr",
    "outputId": "eeff149e-2131-4356-fbd4-814ca9c70ac9"
   },
   "outputs": [
    {
     "name": "stdout",
     "output_type": "stream",
     "text": [
      "Here is a comprehensive abstractive summary of the provided text:\n",
      "\n",
      "The example demonstrates the calculation of the low, mid, and high retail prices for retrofitting ceiling insulation in an unfinished attic with an R-Value of 15, using fiberglass batt insulation. The calculation involves coefficients A (R-value) and C (intercept value) from a Machine Readable CSV file. The retrofit labor adder is used to produce the total installed cost. The median material price is $0.86 per square foot, and the labor cost is $1.00 per square foot, resulting in a total installed cost of $1.86 per square foot. This example provides a detailed breakdown of the costs involved in retrofitting ceiling insulation in an unfinished attic.\n"
     ]
    }
   ],
   "source": [
    "print(abstractive_summary)"
   ]
  },
  {
   "cell_type": "code",
   "execution_count": 16,
   "metadata": {
    "colab": {
     "base_uri": "https://localhost:8080/"
    },
    "id": "5STyEWkTxFun",
    "outputId": "a1366e80-5d9e-46dd-acdd-65096db74222"
   },
   "outputs": [
    {
     "data": {
      "text/plain": [
       "{'rouge-1': 0.5889570502691107,\n",
       " 'rouge-2': 0.4210526266255002,\n",
       " 'rouge-l': 0.5398772956678837}"
      ]
     },
     "execution_count": 16,
     "metadata": {},
     "output_type": "execute_result"
    }
   ],
   "source": [
    "summarizer.evaluate_summary(grouped_chunks['Stats.docx'][-1]['text'], abstractive_summary)"
   ]
  },
  {
   "cell_type": "markdown",
   "metadata": {
    "id": "0Kwo8uE9wtsO"
   },
   "source": [
    "#### **Bullet Point Summary**"
   ]
  },
  {
   "cell_type": "code",
   "execution_count": 17,
   "metadata": {
    "colab": {
     "base_uri": "https://localhost:8080/"
    },
    "id": "wIu-pqoBxVYf",
    "outputId": "936ad339-c1ea-4618-e125-dadd0653ee7a"
   },
   "outputs": [
    {
     "name": "stdout",
     "output_type": "stream",
     "text": [
      "⏱️ Summary Generation: 182 tokens processed in 22.90s (7.95 tokens/sec)\n",
      "\n",
      "   Total (in+out): 345 tokens at 15.06 tokens/sec\n",
      "\n",
      "\n"
     ]
    }
   ],
   "source": [
    "bullet_point_summary = summarizer.summarize_text(grouped_chunks['Stats.docx'][-1]['text'], 'bullet_points')"
   ]
  },
  {
   "cell_type": "code",
   "execution_count": 18,
   "metadata": {
    "colab": {
     "base_uri": "https://localhost:8080/"
    },
    "id": "rgupbjQ4lYL6",
    "outputId": "fbd23187-867a-46ce-d8b1-87f52ed149c6"
   },
   "outputs": [
    {
     "name": "stdout",
     "output_type": "stream",
     "text": [
      "Here is a summary of the text in bullet point format:\n",
      "\n",
      "• The text describes a retrofit installation adder for calculating the cost of replacing ceiling insulation in an unfinished attic with an R-Value of 15 using fiberglass batt insulation.\n",
      "• The cost calculation involves using coefficients from a Machine Readable CSV file, including the R-value coefficient (A) and intercept value (C).\n",
      "• The median material price for the insulation is $0.86 per square foot.\n",
      "• The labor cost for the installation is $1.00 per square foot.\n",
      "• The total installed cost is the sum of the material and labor costs, which is $1.86 per square foot.\n",
      "• The retrofit labor adder is used to calculate the total installed cost, whereas the new construction adder would be used for new construction projects.\n"
     ]
    }
   ],
   "source": [
    "print(bullet_point_summary)"
   ]
  },
  {
   "cell_type": "code",
   "execution_count": 19,
   "metadata": {
    "colab": {
     "base_uri": "https://localhost:8080/"
    },
    "id": "TG2XBplQxbGm",
    "outputId": "add4e176-f2e5-4db3-9bfb-636205a9b3e3"
   },
   "outputs": [
    {
     "data": {
      "text/plain": [
       "{'rouge-1': 0.6097560926085664,\n",
       " 'rouge-2': 0.38016528426166246,\n",
       " 'rouge-l': 0.6097560926085664}"
      ]
     },
     "execution_count": 19,
     "metadata": {},
     "output_type": "execute_result"
    }
   ],
   "source": [
    "summarizer.evaluate_summary(grouped_chunks['Stats.docx'][-1]['text'], bullet_point_summary)"
   ]
  },
  {
   "cell_type": "markdown",
   "metadata": {
    "id": "BxIoDriew07O"
   },
   "source": [
    "### Summary from The Plan of the Giza_Pyramids, but for first few chunks"
   ]
  },
  {
   "cell_type": "code",
   "execution_count": 12,
   "metadata": {
    "id": "aEz5S6eroUnS"
   },
   "outputs": [],
   "source": [
    "for grouped_chunk in grouped_chunks['The_Plan_of_the_Giza_Pyramids.pdf'][:5]:\n",
    "    combined_text = \"\"\n",
    "    combined_text += grouped_chunk.get(\"text\", \"\") + \" \"\n",
    "    tables = grouped_chunk.get(\"tables\")\n",
    "    if tables and isinstance(tables, list):\n",
    "        combined_text += \" \".join(map(str, tables)) + \" \""
   ]
  },
  {
   "cell_type": "code",
   "execution_count": 14,
   "metadata": {
    "colab": {
     "base_uri": "https://localhost:8080/"
    },
    "id": "VOVmBfrVo7fE",
    "outputId": "a6009621-4ae2-4941-e292-2a5d446a4b7b"
   },
   "outputs": [
    {
     "name": "stdout",
     "output_type": "stream",
     "text": [
      "⏱️ Summary Generation: 352 tokens processed in 42.17s (8.35 tokens/sec)\n",
      "\n",
      "   Total (in+out): 657 tokens at 15.58 tokens/sec\n",
      "\n",
      "\n",
      "Here is a comprehensive abstractive summary of the text:\n",
      "\n",
      "The text discusses the dimensions and orientations of the three pyramids at Giza, as determined by Petrie. The dimensions of the pyramid bases are provided in Table I, along with the average variations in the lengths of the sides and the orientations of the pyramids with respect to true north. The distances separating the centers of the pyramids were computed by Petrie along axes constructed parallel to the mean azimuth of the Second and Great Pyramids, and are given in Table II.\n",
      "\n",
      "The tables provide detailed information on the dimensions and orientations of the three pyramids: the Great Pyramid, the Second Pyramid, and the Third Pyramid. The dimensions are given in inches and royal cubits, and the orientations are given in azimuth degrees and minutes. The tables show that the Great Pyramid has a base length of 9068.8 inches, the Second Pyramid has a base length of 8474.9 inches, and the Third Pyramid has a base length of 4153.6 inches. The orientations of the pyramids vary, with the Great Pyramid having an azimuth of -3' 43\", the Second Pyramid having an azimuth of -5' 26\", and the Third Pyramid having an azimuth of 14' 03\".\n",
      "\n",
      "Overall, the text provides a detailed analysis of the dimensions and orientations of the three pyramids at Giza, as determined by Petrie. The information is presented in a clear and concise manner, making it easy to understand and reference.\n"
     ]
    }
   ],
   "source": [
    "abstractive_summary = summarizer.summarize_text(combined_text, 'abstractive')\n",
    "print(abstractive_summary)"
   ]
  },
  {
   "cell_type": "code",
   "execution_count": 22,
   "metadata": {
    "colab": {
     "base_uri": "https://localhost:8080/"
    },
    "id": "3DogD7IF7sSx",
    "outputId": "03373c9d-c894-4c8f-ae0c-0d093bfd23bb"
   },
   "outputs": [
    {
     "data": {
      "text/plain": [
       "{'rouge-1': 0.5347593532889131,\n",
       " 'rouge-2': 0.4191176420612565,\n",
       " 'rouge-l': 0.5347593532889131}"
      ]
     },
     "execution_count": 22,
     "metadata": {},
     "output_type": "execute_result"
    }
   ],
   "source": [
    "summarizer.evaluate_summary(combined_text, abstractive_summary)"
   ]
  },
  {
   "cell_type": "code",
   "execution_count": 23,
   "metadata": {
    "colab": {
     "base_uri": "https://localhost:8080/"
    },
    "id": "mbGWkNOUozmG",
    "outputId": "d97d5047-3ebb-4d31-c150-8b4bc551d9c1"
   },
   "outputs": [
    {
     "name": "stdout",
     "output_type": "stream",
     "text": [
      "⏱️ Summary Generation: 352 tokens processed in 40.22s (8.75 tokens/sec)\n",
      "\n",
      "   Total (in+out): 550 tokens at 13.68 tokens/sec\n",
      "\n",
      "\n",
      "Here is a summary of the text in bullet point format:\n",
      "\n",
      "• The dimensions of the three pyramid bases were determined by Petrie, including the lengths of the sides and the orientations with respect to true north.\n",
      "• The distances separating the centers of the pyramids were computed by Petrie along axes constructed parallel to the mean azimuth of the Second and Great Pyramids.\n",
      "• The dimensions of the pyramids are as follows:\n",
      "\t+ Great Pyramid: 9068.8 inches ± 0.6, 439.81 royal cubits, azimuth -3' 43”\n",
      "\t+ Second Pyramid: 8474.9 inches ± 1.5, 411.00 royal cubits, azimuth -5' 26”\n",
      "\t+ Third Pyramid: 4153.6 inches ± 3.0, 201.44 royal cubits, azimuth 14' 03”\n",
      "\n",
      "I hope this summary meets your requirements! Let me know if you have any further requests.\n"
     ]
    }
   ],
   "source": [
    "bullet_summary = summarizer.summarize_text(combined_text, 'bullet_points')\n",
    "print(bullet_summary)"
   ]
  },
  {
   "cell_type": "code",
   "execution_count": 24,
   "metadata": {
    "colab": {
     "base_uri": "https://localhost:8080/"
    },
    "id": "ReHcnqEgtc7Q",
    "outputId": "38e1f03e-a005-419f-f4ad-d5ab0ade2446"
   },
   "outputs": [
    {
     "data": {
      "text/plain": [
       "{'rouge-1': 0.6137566087567539,\n",
       " 'rouge-2': 0.37944663532940687,\n",
       " 'rouge-l': 0.5925925875927325}"
      ]
     },
     "execution_count": 24,
     "metadata": {},
     "output_type": "execute_result"
    }
   ],
   "source": [
    "summarizer.evaluate_summary(combined_text, bullet_summary)"
   ]
  },
  {
   "cell_type": "markdown",
   "metadata": {
    "id": "jax05CJ97zY_"
   },
   "source": [
    "### Now let's try some strategic approaches"
   ]
  },
  {
   "cell_type": "markdown",
   "metadata": {
    "id": "elhQZHfA8JGH"
   },
   "source": [
    "**Generating Multiple Summaries**"
   ]
  },
  {
   "cell_type": "code",
   "execution_count": 15,
   "metadata": {
    "colab": {
     "base_uri": "https://localhost:8080/"
    },
    "id": "qhDYm9MDizGT",
    "outputId": "22856ddb-8790-459b-c7f2-308e3ed1a841"
   },
   "outputs": [
    {
     "name": "stdout",
     "output_type": "stream",
     "text": [
      "⏱️ Summary Generation: 352 tokens processed in 29.64s (11.87 tokens/sec)\n",
      "\n"
     ]
    }
   ],
   "source": [
    "summaries = summarizer.generate_multiple_summaries(combined_text, count=3)"
   ]
  },
  {
   "cell_type": "code",
   "execution_count": 24,
   "metadata": {
    "colab": {
     "base_uri": "https://localhost:8080/"
    },
    "id": "v5A8byv98hDR",
    "outputId": "35824379-f935-4d97-898b-661b01d73ced"
   },
   "outputs": [
    {
     "name": "stdout",
     "output_type": "stream",
     "text": [
      "Summary 1: The text discusses the dimensions and orientations of the three pyramids at Giza, as determined by Petrie. The dimensions of the pyramid bases are given in inches and royal cubits, while the azimuths (orientations) of the pyramids with respect to true north are also provided. The text includes tables to summarize the data.\n",
      "\n",
      "Summary 2: Petrie's measurements of the Giza pyramids reveal the dimensions of the three pyramid bases, with the Great Pyramid having the largest base (9068.8 inches) and the Third Pyramid having the smallest (4153.6 inches). The azimuths of the pyramids vary, with the Great Pyramid having an azimuth of -3' 43” and the Third Pyramid having an azimuth of 14' 03”.\n",
      "\n",
      "Summary 3: The text presents the results of Petrie's measurements of the Giza pyramids, including the dimensions and orientations of the three pyramids. The dimensions are given in inches and royal cubits, while the azimuths are provided in degrees and minutes. The data is presented in tables, allowing for easy comparison of the measurements.\n",
      "\n"
     ]
    }
   ],
   "source": [
    "for i, summary in enumerate(summaries):\n",
    "    print(f\"Summary {i+1}:\", summary)\n",
    "    print()"
   ]
  },
  {
   "cell_type": "markdown",
   "metadata": {
    "id": "9cJVJS-u96F3"
   },
   "source": [
    "**Evaluate Summaries with LLM**"
   ]
  },
  {
   "cell_type": "code",
   "execution_count": 17,
   "metadata": {
    "id": "zYRw6mnT9BpE"
   },
   "outputs": [],
   "source": [
    "evaluation = summarizer.evaluate_summaries_with_llm(combined_text, summaries)"
   ]
  },
  {
   "cell_type": "code",
   "execution_count": 22,
   "metadata": {
    "colab": {
     "base_uri": "https://localhost:8080/"
    },
    "id": "ELp6IVxVDcfZ",
    "outputId": "ce8afe34-5ec3-4bdb-afc5-c5acd2008b3d"
   },
   "outputs": [
    {
     "name": "stdout",
     "output_type": "stream",
     "text": [
      "best_summary_index: 0\n",
      "\n",
      "best_summary: The text discusses the dimensions and orientations of the three pyramids at Giza, as determined by Petrie. The dimensions of the pyramid bases are given in inches and royal cubits, while the azimuths (orientations) of the pyramids with respect to true north are also provided. The text includes tables to summarize the data.\n",
      "\n",
      "explanation: Summary 1 is the best because it accurately captures the main points of the original text, including the dimensions of the pyramid bases, the azimuths of the pyramids, and the inclusion of tables to summarize the data. The summary is clear and concise, providing a good overview of the content without leaving out important details. Additionally, it does not introduce any new information or try to interpret the data, which is important for a summary. The other summaries, while providing some accurate information, also introduce errors or try to interpret the data, making them less effective summaries.\n",
      "\n"
     ]
    }
   ],
   "source": [
    "for key, value in evaluation.items():\n",
    "    print(f\"{key}: {value}\\n\")"
   ]
  },
  {
   "cell_type": "markdown",
   "metadata": {
    "id": "2u6tnWMa8cWH"
   },
   "source": [
    "**Generate Confidence Scored Summaries**"
   ]
  },
  {
   "cell_type": "code",
   "execution_count": 29,
   "metadata": {
    "colab": {
     "base_uri": "https://localhost:8080/"
    },
    "id": "bTtW9gKJ8RSC",
    "outputId": "613b2234-814d-4241-a07d-00e87b7df426"
   },
   "outputs": [
    {
     "name": "stdout",
     "output_type": "stream",
     "text": [
      "⏱️ Summary Generation: 352 tokens processed in 33.29s (10.57 tokens/sec)\n",
      "\n"
     ]
    }
   ],
   "source": [
    "summaries = summarizer.generate_confidence_scored_summaries(combined_text, count=3)"
   ]
  },
  {
   "cell_type": "code",
   "execution_count": 31,
   "metadata": {
    "colab": {
     "base_uri": "https://localhost:8080/"
    },
    "id": "bcQjzSNb85ft",
    "outputId": "4831fc00-6743-40ce-9efe-e20d2945e59b"
   },
   "outputs": [
    {
     "name": "stdout",
     "output_type": "stream",
     "text": [
      "Confidence: 0.8\n",
      "Text: SUMMARY 1:\n",
      "                   The Plan of the Giza Pyramids discusses the dimensions of the three pyramids, including the Great Pyramid, Second Pyramid, and Third Pyramid. The dimensions are given in inches and royal cubits, with an average variation in the lengths of the sides and orientations with respect to true north.\n",
      "\n",
      "Confidence: 0.0\n",
      "Text: \n",
      "\n",
      "Confidence: 0.0\n",
      "Text: \n",
      "\n"
     ]
    }
   ],
   "source": [
    "for summary in summaries:\n",
    "    print(f\"Confidence: {summary['confidence']}\")\n",
    "    print(f\"Text: {summary['text']}\\n\")"
   ]
  },
  {
   "cell_type": "markdown",
   "metadata": {
    "id": "VO7Z3B7lHVhR"
   },
   "source": [
    "It's not giving more summaries 😶. But we can surely make it better by some modifications in prompt. But I am leaving it for now"
   ]
  },
  {
   "cell_type": "markdown",
   "metadata": {
    "id": "3en1BnkMHMs5"
   },
   "source": [
    "**Two Step Summarization**"
   ]
  },
  {
   "cell_type": "code",
   "execution_count": 35,
   "metadata": {
    "colab": {
     "base_uri": "https://localhost:8080/"
    },
    "id": "KRuo2vlbHQW_",
    "outputId": "7002a047-24da-428f-f26f-bf78a9edfd83"
   },
   "outputs": [
    {
     "name": "stdout",
     "output_type": "stream",
     "text": [
      "⏱️ Summary Generation: 352 tokens processed in 28.37s (12.41 tokens/sec)\n",
      "\n",
      "⏱️ Summary Generation: 352 tokens processed in 48.74s (7.22 tokens/sec)\n",
      "\n"
     ]
    }
   ],
   "source": [
    "summaries = summarizer.two_step_summarization(combined_text)"
   ]
  },
  {
   "cell_type": "code",
   "execution_count": 37,
   "metadata": {
    "colab": {
     "base_uri": "https://localhost:8080/"
    },
    "id": "TReo-i2FH6ZE",
    "outputId": "cd0351f5-9c29-4ad6-a1a9-9337db64c5e6"
   },
   "outputs": [
    {
     "name": "stdout",
     "output_type": "stream",
     "text": [
      "original_text_length: 1005\n",
      "\n",
      "summaries: ['The text describes the dimensions and orientations of the three pyramids at Giza, as measured by Petrie. The table shows the dimensions of the pyramids in inches and royal cubits, as well as their azimuth (orientation) with respect to true north. The distances between the centers of the pyramids were also calculated by Petrie.', 'The article provides information on the sizes and orientations of the Great, Second, and Third Pyramids of Giza. Petrie measured the pyramids and recorded their dimensions in inches and royal cubits, as well as their azimuth. The text also includes tables showing the measurements and orientations of the pyramids.', \"Petrie's measurements of the Giza Pyramids are presented in the text, including their dimensions in inches and royal cubits, as well as their azimuth with respect to true north. The tables provided show the measurements and orientations of the Great, Second, and Third Pyramids, which were used to calculate the distances between their centers.\"]\n",
      "\n",
      "selected_summary: Petrie's measurements of the Giza Pyramids are presented in the text, including their dimensions in inches and royal cubits, as well as their azimuth with respect to true north. The tables provided show the measurements and orientations of the Great, Second, and Third Pyramids, which were used to calculate the distances between their centers.\n",
      "\n",
      "evaluation: Summary 3 is the best because it provides a clear and concise overview of the content, accurately summarizing the main points of the original text. It mentions Petrie's measurements, the dimensions and azimuth of the pyramids, and the tables provided, which are all key elements of the original text. Additionally, the language used is straightforward and easy to understand, making it accessible to a wide range of readers. The other summaries, while still accurate, are slightly less effective in conveying the main ideas of the text. Summary 1 is a bit wordy and includes some unnecessary details, while Summary 2 is more repetitive and doesn't add much new information. Overall, Summary 3 is the most effective in summarizing the content of the original text.\n",
      "\n"
     ]
    }
   ],
   "source": [
    "for key, value in summaries.items():\n",
    "    print(f\"{key}: {value}\\n\")"
   ]
  },
  {
   "cell_type": "code",
   "execution_count": null,
   "metadata": {
    "id": "lvZy1or1Ic-p"
   },
   "outputs": [],
   "source": []
  }
 ],
 "metadata": {
  "accelerator": "GPU",
  "colab": {
   "gpuType": "T4",
   "provenance": []
  },
  "kernelspec": {
   "display_name": "Python 3",
   "name": "python3"
  },
  "language_info": {
   "name": "python"
  }
 },
 "nbformat": 4,
 "nbformat_minor": 0
}
